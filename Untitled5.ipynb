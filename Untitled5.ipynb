{
 "cells": [
  {
   "cell_type": "code",
   "execution_count": 1,
   "id": "265a6138-049b-4d6d-b3e4-2b1ccf1496dc",
   "metadata": {},
   "outputs": [
    {
     "name": "stdout",
     "output_type": "stream",
     "text": [
      "[]\n"
     ]
    }
   ],
   "source": [
    "my_list = list()\n",
    "print(my_list)"
   ]
  },
  {
   "cell_type": "code",
   "execution_count": 2,
   "id": "553eb33f-fcda-48bd-b7e9-f596a4cc4747",
   "metadata": {},
   "outputs": [
    {
     "name": "stdout",
     "output_type": "stream",
     "text": [
      "\n"
     ]
    }
   ],
   "source": [
    "my_str = str()\n",
    "print(my_str)"
   ]
  },
  {
   "cell_type": "code",
   "execution_count": 3,
   "id": "542020c7-133a-4e94-96f5-1109ad6a4185",
   "metadata": {},
   "outputs": [
    {
     "name": "stdout",
     "output_type": "stream",
     "text": [
      "()\n"
     ]
    }
   ],
   "source": [
    "my_str = tuple()\n",
    "print(my_str)"
   ]
  },
  {
   "cell_type": "code",
   "execution_count": 4,
   "id": "c76de628-9449-49c8-ac49-dfc08558bba8",
   "metadata": {},
   "outputs": [
    {
     "name": "stdout",
     "output_type": "stream",
     "text": [
      "{}\n"
     ]
    }
   ],
   "source": [
    "my_str = dict()\n",
    "print(my_str)"
   ]
  },
  {
   "cell_type": "code",
   "execution_count": 10,
   "id": "0c1ecd7a-fe8e-4d06-a6cb-651beee382ca",
   "metadata": {},
   "outputs": [
    {
     "name": "stdout",
     "output_type": "stream",
     "text": [
      "(10, 20, 30, 40, 10, 10)\n"
     ]
    }
   ],
   "source": [
    "mu_tuple = (10,20,30,40,10,10)\n",
    "print(mu_tuple)"
   ]
  },
  {
   "cell_type": "code",
   "execution_count": 9,
   "id": "727bf9fa-6920-4f07-9ad2-d4edfba97422",
   "metadata": {},
   "outputs": [
    {
     "ename": "AttributeError",
     "evalue": "'tuple' object has no attribute 'find'",
     "output_type": "error",
     "traceback": [
      "\u001b[1;31m---------------------------------------------------------------------------\u001b[0m",
      "\u001b[1;31mAttributeError\u001b[0m                            Traceback (most recent call last)",
      "Cell \u001b[1;32mIn[9], line 3\u001b[0m\n\u001b[0;32m      1\u001b[0m mu_tuple \u001b[38;5;241m=\u001b[39m (\u001b[38;5;241m10\u001b[39m,\u001b[38;5;241m20\u001b[39m,\u001b[38;5;241m30\u001b[39m,\u001b[38;5;241m40\u001b[39m,\u001b[38;5;241m10\u001b[39m,\u001b[38;5;241m10\u001b[39m)\n\u001b[0;32m      2\u001b[0m \u001b[38;5;66;03m# print(mu_tuple.count(10))\u001b[39;00m\n\u001b[1;32m----> 3\u001b[0m \u001b[38;5;28mprint\u001b[39m(mu_tuple\u001b[38;5;241m.\u001b[39mfind(\u001b[38;5;241m10\u001b[39m,\u001b[38;5;241m2\u001b[39m,\u001b[38;5;241m3\u001b[39m))\n",
      "\u001b[1;31mAttributeError\u001b[0m: 'tuple' object has no attribute 'find'"
     ]
    }
   ],
   "source": [
    "mu_tuple = (10,20,30,40,10,10)\n",
    "# print(mu_tuple.count(10))\n",
    "print(mu_tuple.find(10,2,3))"
   ]
  },
  {
   "cell_type": "code",
   "execution_count": 12,
   "id": "03cc0519-3806-4f5f-bd51-c7143314d3d0",
   "metadata": {},
   "outputs": [
    {
     "name": "stdout",
     "output_type": "stream",
     "text": [
      "7\n"
     ]
    }
   ],
   "source": [
    "my_list = [10,20,30,'neeraj',50,'raj',70,10,30,10,50]\n",
    "\n",
    "print(my_list.index(10,5,10))"
   ]
  },
  {
   "cell_type": "code",
   "execution_count": 13,
   "id": "7dc6d74c-d8f9-4328-b941-605db5fc31b5",
   "metadata": {},
   "outputs": [
    {
     "name": "stdout",
     "output_type": "stream",
     "text": [
      "56\n"
     ]
    }
   ],
   "source": [
    "import sys\n",
    "\n",
    "my_list = []\n",
    "print(sys.getsizeof(my_list))"
   ]
  },
  {
   "cell_type": "code",
   "execution_count": 14,
   "id": "13fe1be5-76f3-4ca6-bdb6-62f2d33aa492",
   "metadata": {},
   "outputs": [
    {
     "name": "stdout",
     "output_type": "stream",
     "text": [
      "88\n"
     ]
    }
   ],
   "source": [
    "my_list.append(10)\n",
    "print(sys.getsizeof(my_list))"
   ]
  },
  {
   "cell_type": "code",
   "execution_count": 15,
   "id": "560eb5ac-22bd-48c7-aa6c-b1ff39754dc4",
   "metadata": {},
   "outputs": [
    {
     "name": "stdout",
     "output_type": "stream",
     "text": [
      "88\n"
     ]
    }
   ],
   "source": [
    "my_list.append(20)\n",
    "print(sys.getsizeof(my_list))"
   ]
  },
  {
   "cell_type": "code",
   "execution_count": 16,
   "id": "5ebe18d6-c216-4d1e-95d2-c34c25aabd3b",
   "metadata": {},
   "outputs": [
    {
     "name": "stdout",
     "output_type": "stream",
     "text": [
      "88\n"
     ]
    }
   ],
   "source": [
    "my_list.append(30)\n",
    "print(sys.getsizeof(my_list))"
   ]
  },
  {
   "cell_type": "code",
   "execution_count": 17,
   "id": "9231b4a8-f93b-4b2d-b538-afdc56dbae9b",
   "metadata": {},
   "outputs": [
    {
     "name": "stdout",
     "output_type": "stream",
     "text": [
      "88\n"
     ]
    }
   ],
   "source": [
    "my_list.append(10)\n",
    "print(sys.getsizeof(my_list))"
   ]
  },
  {
   "cell_type": "code",
   "execution_count": 18,
   "id": "576cf237-d185-43f6-bde0-ffb37caff807",
   "metadata": {},
   "outputs": [
    {
     "name": "stdout",
     "output_type": "stream",
     "text": [
      "120\n"
     ]
    }
   ],
   "source": [
    "my_list.append(10)\n",
    "print(sys.getsizeof(my_list))"
   ]
  },
  {
   "cell_type": "code",
   "execution_count": 19,
   "id": "4fde1315-6797-40a7-afdc-37308c6c4dc4",
   "metadata": {},
   "outputs": [
    {
     "name": "stdout",
     "output_type": "stream",
     "text": [
      "88\n",
      "64\n"
     ]
    }
   ],
   "source": [
    "import sys\n",
    "\n",
    "lst = [1, 2, 3]\n",
    "tup = (1, 2, 3)\n",
    "\n",
    "print(sys.getsizeof(lst))  # Memory used by the list\n",
    "print(sys.getsizeof(tup))  # Memory used by the tuple\n"
   ]
  },
  {
   "cell_type": "code",
   "execution_count": 21,
   "id": "f0f68bfd-856a-4832-9aa9-0086de803bbf",
   "metadata": {},
   "outputs": [
    {
     "ename": "NameError",
     "evalue": "name 'Time' is not defined",
     "output_type": "error",
     "traceback": [
      "\u001b[1;31m---------------------------------------------------------------------------\u001b[0m",
      "\u001b[1;31mNameError\u001b[0m                                 Traceback (most recent call last)",
      "Cell \u001b[1;32mIn[21], line 3\u001b[0m\n\u001b[0;32m      1\u001b[0m \u001b[38;5;28;01mimport\u001b[39;00m \u001b[38;5;21;01mtime\u001b[39;00m\n\u001b[1;32m----> 3\u001b[0m start_time \u001b[38;5;241m=\u001b[39m Time\u001b[38;5;241m.\u001b[39mtime()\n\u001b[0;32m      5\u001b[0m lst \u001b[38;5;241m=\u001b[39m [\u001b[38;5;241m1\u001b[39m, \u001b[38;5;241m2\u001b[39m, \u001b[38;5;241m3\u001b[39m]\n\u001b[0;32m      6\u001b[0m \u001b[38;5;28mprint\u001b[39m(sys\u001b[38;5;241m.\u001b[39mgetsizeof(lst))\n",
      "\u001b[1;31mNameError\u001b[0m: name 'Time' is not defined"
     ]
    }
   ],
   "source": [
    "import time\n",
    "\n",
    "start_time = Time.time()\n",
    "\n",
    "lst = [1, 2, 3]\n",
    "print(sys.getsizeof(lst))\n",
    "\n",
    "stop_time = Time.time()\n",
    "\n",
    "total_time = stop_time-start_time\n",
    "print(total_time)"
   ]
  },
  {
   "cell_type": "code",
   "execution_count": null,
   "id": "44da24ca-859e-4efe-9eb3-424e5b08b4a5",
   "metadata": {},
   "outputs": [
    {
     "name": "stdout",
     "output_type": "stream",
     "text": [
      "88\n"
     ]
    }
   ],
   "source": [
    "from datetime import datetime\n",
    "\n",
    "start_time = datetime.now()\n",
    "\n",
    "lst = [1, 2, 3]\n",
    "lst.append('neeraj')\n",
    "print(sys.getsizeof(lst))\n",
    "for i in range(1,100000):\n",
    "    lst.append(i)\n",
    "\n",
    "stop_time = datetime.now()\n",
    "\n",
    "total_time = stop_time-start_time\n",
    "print(total_time)"
   ]
  },
  {
   "cell_type": "code",
   "execution_count": null,
   "id": "fa4909b5-6091-4d75-919c-2eb20be2f8f1",
   "metadata": {},
   "outputs": [],
   "source": []
  }
 ],
 "metadata": {
  "kernelspec": {
   "display_name": "Python 3 (ipykernel)",
   "language": "python",
   "name": "python3"
  },
  "language_info": {
   "codemirror_mode": {
    "name": "ipython",
    "version": 3
   },
   "file_extension": ".py",
   "mimetype": "text/x-python",
   "name": "python",
   "nbconvert_exporter": "python",
   "pygments_lexer": "ipython3",
   "version": "3.12.7"
  }
 },
 "nbformat": 4,
 "nbformat_minor": 5
}
