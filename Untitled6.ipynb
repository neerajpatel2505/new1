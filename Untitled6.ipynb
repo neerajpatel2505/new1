{
 "cells": [
  {
   "cell_type": "code",
   "execution_count": 5,
   "id": "857707a8-3cf3-4423-84d2-4ed53d4ff5ba",
   "metadata": {},
   "outputs": [
    {
     "name": "stdout",
     "output_type": "stream",
     "text": [
      "[]\n",
      "56\n",
      "['Neeraj', 1, 'Neeraj', 1, 'Neeraj', 1]\n",
      "120\n"
     ]
    }
   ],
   "source": [
    "import sys\n",
    "\n",
    "# mylist = []\n",
    "mylist1 = list()\n",
    "# print(mylist)\n",
    "print(mylist1)\n",
    "print(sys.getsizeof(mylist1))\n",
    "mylist1.append('Neeraj')\n",
    "mylist1.append(1)\n",
    "mylist1.append('Neeraj')\n",
    "mylist1.append(1)\n",
    "mylist1.append('Neeraj')\n",
    "mylist1.append(1)\n",
    "print(mylist1)\n",
    "print(sys.getsizeof(mylist1))"
   ]
  },
  {
   "cell_type": "code",
   "execution_count": 6,
   "id": "012ea6e0-8aec-4662-9a3f-d4aa82245744",
   "metadata": {},
   "outputs": [],
   "source": [
    "# tuple:-----------"
   ]
  },
  {
   "cell_type": "code",
   "execution_count": 8,
   "id": "2291fe33-f5af-4ff5-a369-3f94378bf774",
   "metadata": {},
   "outputs": [
    {
     "name": "stdout",
     "output_type": "stream",
     "text": [
      "64\n",
      "88\n"
     ]
    }
   ],
   "source": [
    "import sys\n",
    "my_tuple = (10,20,'Neeraj')\n",
    "my_list = [10,20,'Neeraj']\n",
    "print(sys.getsizeof(my_tuple))\n",
    "print(sys.getsizeof(my_list))\n"
   ]
  },
  {
   "cell_type": "code",
   "execution_count": 10,
   "id": "d0c949a8-70f0-4dba-9c39-4f668fdf99fe",
   "metadata": {},
   "outputs": [
    {
     "name": "stdout",
     "output_type": "stream",
     "text": [
      "5\n"
     ]
    }
   ],
   "source": [
    "myt= (10,20,30,40,'neeraj')\n",
    "print(len(myt))\n"
   ]
  },
  {
   "cell_type": "code",
   "execution_count": 13,
   "id": "3a42f715-4506-4b39-ba73-dcd2b8fee38b",
   "metadata": {},
   "outputs": [
    {
     "name": "stdout",
     "output_type": "stream",
     "text": [
      "rahul\n",
      "arvind\n",
      "<class 'tuple'>\n",
      "2499526695792\n"
     ]
    }
   ],
   "source": [
    "myt = ('neeraj','rahul','jai','arvind')\n",
    "print(max(myt))\n",
    "print(min(myt))\n",
    "print(type(myt))\n",
    "print(id(myt))"
   ]
  },
  {
   "cell_type": "code",
   "execution_count": 14,
   "id": "5c7adf93-7995-40ab-8c29-ae5766181a12",
   "metadata": {},
   "outputs": [
    {
     "name": "stdout",
     "output_type": "stream",
     "text": [
      "()\n"
     ]
    }
   ],
   "source": [
    "x = tuple()\n",
    "print(x)"
   ]
  },
  {
   "cell_type": "code",
   "execution_count": 15,
   "id": "74a5fa97-8ab0-4956-b358-83f3d53b2105",
   "metadata": {
    "scrolled": true
   },
   "outputs": [
    {
     "name": "stdout",
     "output_type": "stream",
     "text": [
      "()\n",
      "40\n"
     ]
    }
   ],
   "source": [
    "import sys\n",
    "x = tuple()\n",
    "print(x)\n",
    "print(sys.getsizeof(x))\n"
   ]
  },
  {
   "cell_type": "code",
   "execution_count": 16,
   "id": "1ae8e90b-f788-4ef1-84b1-2deaa71d2971",
   "metadata": {},
   "outputs": [
    {
     "name": "stdout",
     "output_type": "stream",
     "text": [
      "[]\n",
      "56\n"
     ]
    }
   ],
   "source": [
    "import sys\n",
    "x = list()\n",
    "print(x)\n",
    "print(sys.getsizeof(x))"
   ]
  },
  {
   "cell_type": "code",
   "execution_count": 18,
   "id": "a8a9e9d1-bf0f-4e4f-9e7a-b57e1a94bac6",
   "metadata": {},
   "outputs": [
    {
     "name": "stdout",
     "output_type": "stream",
     "text": [
      "4\n"
     ]
    }
   ],
   "source": [
    "myt = ('neeraj','rahul','jai','arvind','jai','jai','jai')\n",
    "print(myt.count('jai'))"
   ]
  },
  {
   "cell_type": "code",
   "execution_count": 21,
   "id": "132d7925-6926-4a08-b227-f7d489322125",
   "metadata": {},
   "outputs": [
    {
     "name": "stdout",
     "output_type": "stream",
     "text": [
      "4\n"
     ]
    }
   ],
   "source": [
    "myt = ('neeraj','rahul','jai','arvind','jai','jai','jai')\n",
    "print(myt.index('jai',4,6))"
   ]
  },
  {
   "cell_type": "code",
   "execution_count": 24,
   "id": "fa5ff61a-9e30-4395-ae25-02c0348df530",
   "metadata": {},
   "outputs": [
    {
     "name": "stdin",
     "output_type": "stream",
     "text": [
      "Enter string python\n",
      "Enter string ytponh\n"
     ]
    },
    {
     "name": "stdout",
     "output_type": "stream",
     "text": [
      "not\n"
     ]
    }
   ],
   "source": [
    "str1 = input(\"Enter string\")\n",
    "str2 = input(\"Enter string\")\n",
    "\n",
    "if str1==str2:\n",
    "    print('Anagram')\n",
    "else:\n",
    "    print('not')"
   ]
  },
  {
   "cell_type": "code",
   "execution_count": null,
   "id": "d04453f7-db3d-4e3c-bb5b-d0c9a8f253c8",
   "metadata": {},
   "outputs": [],
   "source": []
  }
 ],
 "metadata": {
  "kernelspec": {
   "display_name": "Python 3 (ipykernel)",
   "language": "python",
   "name": "python3"
  },
  "language_info": {
   "codemirror_mode": {
    "name": "ipython",
    "version": 3
   },
   "file_extension": ".py",
   "mimetype": "text/x-python",
   "name": "python",
   "nbconvert_exporter": "python",
   "pygments_lexer": "ipython3",
   "version": "3.12.7"
  }
 },
 "nbformat": 4,
 "nbformat_minor": 5
}
