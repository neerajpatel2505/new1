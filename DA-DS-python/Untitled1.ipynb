{
 "cells": [
  {
   "cell_type": "code",
   "execution_count": 9,
   "id": "0dae40ff-0f64-4b87-bd6f-6055220e8dd9",
   "metadata": {},
   "outputs": [
    {
     "name": "stdout",
     "output_type": "stream",
     "text": [
      "10\n",
      "20\n",
      "Neeraj\n",
      "Rahul\n"
     ]
    }
   ],
   "source": [
    "# Single level inharitence:----------\n",
    "class A:\n",
    "    x=10\n",
    "    y=20\n",
    "    def p_name(self,name):\n",
    "        self.p = name\n",
    "\n",
    "class B(A):\n",
    "    def c_name(self,name):\n",
    "        self.q = name\n",
    "        print(A.x)\n",
    "        print(A.y)\n",
    "        self.p_name('Neeraj')\n",
    "        print(self.p)\n",
    "        print(self.q)\n",
    "\n",
    "obj2 = B()\n",
    "obj2.c_name(\"Rahul\")"
   ]
  },
  {
   "cell_type": "code",
   "execution_count": 16,
   "id": "ee7b3fd3-5101-4c60-ae26-a9d104718ec9",
   "metadata": {},
   "outputs": [
    {
     "name": "stdout",
     "output_type": "stream",
     "text": [
      "10\n",
      "20\n",
      "Neeraj\n",
      "Rahul\n",
      "Ravi\n"
     ]
    }
   ],
   "source": [
    "class A:\n",
    "    def gf_name(self,name):\n",
    "        self.gf = name\n",
    "        \n",
    "class B(A):\n",
    "    x=10\n",
    "    y=20\n",
    "    def p_name(self,name):\n",
    "        self.p = name\n",
    "\n",
    "class C(B):\n",
    "    def c_name(self,name):\n",
    "        self.q = name\n",
    "        print(B.x)\n",
    "        print(B.y)\n",
    "        self.p_name('Neeraj')\n",
    "        print(self.p)\n",
    "        print(self.q)\n",
    "        self.gf_name(\"Ravi\")\n",
    "        print(self.gf)\n",
    "\n",
    "obj2 = C()\n",
    "# print(dir(obj2))\n",
    "obj2.c_name(\"Rahul\")"
   ]
  },
  {
   "cell_type": "code",
   "execution_count": 23,
   "id": "10a71cf1-483f-4833-a17c-3eff6365dcf5",
   "metadata": {},
   "outputs": [
    {
     "name": "stdout",
     "output_type": "stream",
     "text": [
      "m_home\n",
      "m_bank\n"
     ]
    }
   ],
   "source": [
    "# Multiple inharitence:--------\n",
    "class Father:\n",
    "    def property(self):\n",
    "        self.h = \"f_home\"\n",
    "        self.b = \"f_bank\"\n",
    "        print(self.h)\n",
    "        print(self.b)\n",
    "class Mother:\n",
    "    def property(self):\n",
    "        self.h = \"m_home\"\n",
    "        self.b = \"m_bank\"\n",
    "        print(self.h)\n",
    "        print(self.b)\n",
    "class Child(Mother,Father):\n",
    "    pass\n",
    "obj = Child()\n",
    "obj.property()\n",
    "# print(dir(obj))"
   ]
  },
  {
   "cell_type": "code",
   "execution_count": 24,
   "id": "58a3975c-22a4-4ffe-bff9-9c3b07f2c135",
   "metadata": {},
   "outputs": [
    {
     "name": "stdin",
     "output_type": "stream",
     "text": [
      "Enter a number:  0.5\n"
     ]
    },
    {
     "name": "stdout",
     "output_type": "stream",
     "text": [
      "The number is positive.\n"
     ]
    }
   ],
   "source": [
    "# Write a program to display whether a number is positive or negative or is zero.\n",
    "number = float(input(\"Enter a number: \"))\n",
    "if number > 0:\n",
    "    print(\"The number is positive.\")\n",
    "elif number < 0:\n",
    "    print(\"The number is negative.\")\n",
    "else:\n",
    "    print(\"The number is zero.\")"
   ]
  },
  {
   "cell_type": "code",
   "execution_count": 26,
   "id": "17829357-0bc1-4d70-a976-924997e183e6",
   "metadata": {},
   "outputs": [
    {
     "name": "stdout",
     "output_type": "stream",
     "text": [
      "1 3 5 7 9 11 13 15 17 19 "
     ]
    }
   ],
   "source": [
    "# Write a program to display odd numbers upto 20.\n",
    "n=20\n",
    "for number in range(1, n+1):\n",
    "    if number % 2 != 0: \n",
    "        print(number,end=' ')"
   ]
  },
  {
   "cell_type": "code",
   "execution_count": 27,
   "id": "25c3b8d6-2eec-42ad-8837-526da775bf41",
   "metadata": {},
   "outputs": [
    {
     "name": "stdin",
     "output_type": "stream",
     "text": [
      "Enter your age:  18\n"
     ]
    },
    {
     "name": "stdout",
     "output_type": "stream",
     "text": [
      "You are eligible to vote.\n"
     ]
    }
   ],
   "source": [
    "# Write a program to check whether a user is eligible to vote or not.\n",
    "age = int(input(\"Enter your age: \"))\n",
    "if age >= 18:\n",
    "    print(\"You are eligible to vote.\")\n",
    "else:\n",
    "    print(\"You are not eligible to vote.\")"
   ]
  },
  {
   "cell_type": "code",
   "execution_count": 28,
   "id": "c3550fc3-b7e7-46f1-a5fd-e2f0bc7e821e",
   "metadata": {},
   "outputs": [
    {
     "name": "stdout",
     "output_type": "stream",
     "text": [
      "1 2 3 4 5 6 7 8 9 10 "
     ]
    }
   ],
   "source": [
    "# Write a program to print first 10 natural numbers.\n",
    "n=10\n",
    "for number in range(1, n+1): \n",
    "        print(number,end=' ')"
   ]
  },
  {
   "cell_type": "code",
   "execution_count": 29,
   "id": "f68fe72a-b7bf-4976-8048-881801792940",
   "metadata": {},
   "outputs": [
    {
     "name": "stdout",
     "output_type": "stream",
     "text": [
      "1 4 9 16 25 36 49 64 81 100 121 144 169 196 225 256 289 324 361 400 "
     ]
    }
   ],
   "source": [
    "# Write a program to print the squares of numbers from 1 to 20.\n",
    "n=20\n",
    "for number in range(1, n+1): \n",
    "        print(number**2,end=' ')"
   ]
  },
  {
   "cell_type": "code",
   "execution_count": 30,
   "id": "a99b9e6f-4566-4aeb-8fe8-227057928c3f",
   "metadata": {},
   "outputs": [
    {
     "name": "stdin",
     "output_type": "stream",
     "text": [
      "Enter a non-negative integer:  10\n"
     ]
    },
    {
     "name": "stdout",
     "output_type": "stream",
     "text": [
      "Factorial No = 3628800\n"
     ]
    }
   ],
   "source": [
    "# Write a program to calculate factorial of a given number.\n",
    " \n",
    "number = int(input(\"Enter a non-negative integer: \"))\n",
    "factorial = 1\n",
    "if number < 0:\n",
    "    print(\"Factorial is not defined for negative numbers.\")\n",
    "elif number == 0:\n",
    "    print(\"The factorial of 0 is 1.\")\n",
    "else:\n",
    "    for i in range(1, number + 1):\n",
    "        factorial *= i\n",
    "    print(\"Factorial No =\",factorial)\n"
   ]
  },
  {
   "cell_type": "code",
   "execution_count": 31,
   "id": "8d496fdc-fc64-4572-abae-c1fd0ef80981",
   "metadata": {},
   "outputs": [
    {
     "name": "stdin",
     "output_type": "stream",
     "text": [
      "Enter an integer no:  5\n"
     ]
    },
    {
     "name": "stdout",
     "output_type": "stream",
     "text": [
      "5 x 1 = 5\n",
      "5 x 2 = 10\n",
      "5 x 3 = 15\n",
      "5 x 4 = 20\n",
      "5 x 5 = 25\n",
      "5 x 6 = 30\n",
      "5 x 7 = 35\n",
      "5 x 8 = 40\n",
      "5 x 9 = 45\n",
      "5 x 10 = 50\n"
     ]
    }
   ],
   "source": [
    "# Write a program to display mutiplication table for a given integer number.\n",
    "number = int(input(\"Enter an integer no: \"))\n",
    "for i in range(1, 11): \n",
    "    result = number * i\n",
    "    print(f\"{number} x {i} = {result}\")\n"
   ]
  },
  {
   "cell_type": "code",
   "execution_count": 32,
   "id": "95ec86b5-14ed-4c7c-b98a-67f164fbf130",
   "metadata": {},
   "outputs": [
    {
     "name": "stdin",
     "output_type": "stream",
     "text": [
      "Enter a string:  neeraj\n"
     ]
    },
    {
     "name": "stdout",
     "output_type": "stream",
     "text": [
      "Length of string =  6\n"
     ]
    }
   ],
   "source": [
    "# Write a program to display length of any string.\n",
    "my_string = input(\"Enter a string: \")\n",
    "str_len = 0\n",
    "for char in my_string:\n",
    "    str_len += 1\n",
    "\n",
    "print(\"Length of string = \",str_len)"
   ]
  },
  {
   "cell_type": "code",
   "execution_count": 33,
   "id": "13285fb3-8499-4f23-a13c-9b6a893344b1",
   "metadata": {},
   "outputs": [
    {
     "name": "stdin",
     "output_type": "stream",
     "text": [
      "Enter a number:  11\n"
     ]
    },
    {
     "name": "stdout",
     "output_type": "stream",
     "text": [
      "11 is not even number.\n"
     ]
    }
   ],
   "source": [
    "# Write a program to check if the given number is even or not.\n",
    "number = int(input(\"Enter a number: \"))\n",
    "if number % 2 == 0:\n",
    "    print(f\"{number} is even number.\")\n",
    "else:\n",
    "    print(f\"{number} is not even number.\")\n"
   ]
  },
  {
   "cell_type": "code",
   "execution_count": 34,
   "id": "4da2aaa0-0c28-4472-aae6-1c04cefea921",
   "metadata": {},
   "outputs": [
    {
     "name": "stdin",
     "output_type": "stream",
     "text": [
      "Enter the first number:  11\n",
      "Enter the second number:  14\n",
      "Enter the third number:  9\n"
     ]
    },
    {
     "name": "stdout",
     "output_type": "stream",
     "text": [
      "The largest number is 14.\n"
     ]
    }
   ],
   "source": [
    "# Write a program to take 3 integer numbers and display the largest number.\n",
    "\n",
    "x = int(input(\"Enter the first number: \"))\n",
    "y = int(input(\"Enter the second number: \"))\n",
    "z = int(input(\"Enter the third number: \"))\n",
    "\n",
    "# Determine the largest number\n",
    "if x >= y and x >= z:\n",
    "    largest = x\n",
    "elif y >= x and y >= z:\n",
    "    largest = y\n",
    "else:\n",
    "    largest = z\n",
    "\n",
    "print(f\"The largest number is {largest}.\")\n"
   ]
  },
  {
   "cell_type": "code",
   "execution_count": null,
   "id": "67436beb-5cfa-4f2b-9ba4-bd46797a0a82",
   "metadata": {},
   "outputs": [],
   "source": []
  }
 ],
 "metadata": {
  "kernelspec": {
   "display_name": "Python 3 (ipykernel)",
   "language": "python",
   "name": "python3"
  },
  "language_info": {
   "codemirror_mode": {
    "name": "ipython",
    "version": 3
   },
   "file_extension": ".py",
   "mimetype": "text/x-python",
   "name": "python",
   "nbconvert_exporter": "python",
   "pygments_lexer": "ipython3",
   "version": "3.12.4"
  }
 },
 "nbformat": 4,
 "nbformat_minor": 5
}
