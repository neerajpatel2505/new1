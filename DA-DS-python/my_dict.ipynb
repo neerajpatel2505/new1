{
 "cells": [
  {
   "cell_type": "code",
   "execution_count": 1,
   "id": "dfd0e066-b32d-4e67-b46e-4bc76054630d",
   "metadata": {},
   "outputs": [
    {
     "name": "stdout",
     "output_type": "stream",
     "text": [
      "{}\n"
     ]
    }
   ],
   "source": [
    "my_dict = dict()\n",
    "print(my_dict)"
   ]
  },
  {
   "cell_type": "code",
   "execution_count": 2,
   "id": "681ac603-1c12-49d2-bb31-51b6fabe23ad",
   "metadata": {},
   "outputs": [
    {
     "name": "stdout",
     "output_type": "stream",
     "text": [
      "\n"
     ]
    }
   ],
   "source": [
    "my_dict = str()\n",
    "print(my_dict)"
   ]
  },
  {
   "cell_type": "code",
   "execution_count": 4,
   "id": "912556db-f800-41ca-a785-686304add9d1",
   "metadata": {},
   "outputs": [
    {
     "name": "stdout",
     "output_type": "stream",
     "text": [
      "[]\n"
     ]
    }
   ],
   "source": [
    "my_dict = list()\n",
    "print(my_dict)"
   ]
  },
  {
   "cell_type": "code",
   "execution_count": 5,
   "id": "65f41315-0036-4c3a-a02a-ede1fb80f95a",
   "metadata": {},
   "outputs": [
    {
     "name": "stdout",
     "output_type": "stream",
     "text": [
      "()\n"
     ]
    }
   ],
   "source": [
    "my_dict = tuple()\n",
    "print(my_dict)"
   ]
  },
  {
   "cell_type": "code",
   "execution_count": 8,
   "id": "1a2c3bfe-eee4-4814-a710-6973f9c444fb",
   "metadata": {},
   "outputs": [
    {
     "name": "stdout",
     "output_type": "stream",
     "text": [
      "{'name': 'Neeraj', 'age': 37, 'quali': 'M.Tech'}\n"
     ]
    }
   ],
   "source": [
    "my_dict = dict()\n",
    "my_dict['name'] = 'Neeraj'\n",
    "my_dict['age'] = 37\n",
    "my_dict['quali'] = 'M.Tech'\n",
    "print(my_dict)"
   ]
  },
  {
   "cell_type": "code",
   "execution_count": 7,
   "id": "a1f0ead5-52ee-4247-a419-b31abcf6137e",
   "metadata": {},
   "outputs": [
    {
     "name": "stdout",
     "output_type": "stream",
     "text": [
      "quali\n"
     ]
    }
   ],
   "source": [
    "print(max(my_dict))"
   ]
  },
  {
   "cell_type": "code",
   "execution_count": 9,
   "id": "5db237eb-f0dd-4f5e-a679-327098196e8b",
   "metadata": {},
   "outputs": [
    {
     "name": "stdout",
     "output_type": "stream",
     "text": [
      "age\n"
     ]
    }
   ],
   "source": [
    "print(min(my_dict))"
   ]
  },
  {
   "cell_type": "code",
   "execution_count": 10,
   "id": "6f4d6ab9-d2dd-4c5a-80bc-2f3e71908f58",
   "metadata": {},
   "outputs": [
    {
     "ename": "TypeError",
     "evalue": "unsupported operand type(s) for +: 'int' and 'str'",
     "output_type": "error",
     "traceback": [
      "\u001b[1;31m---------------------------------------------------------------------------\u001b[0m",
      "\u001b[1;31mTypeError\u001b[0m                                 Traceback (most recent call last)",
      "Cell \u001b[1;32mIn[10], line 1\u001b[0m\n\u001b[1;32m----> 1\u001b[0m \u001b[38;5;28mprint\u001b[39m(\u001b[38;5;28msum\u001b[39m(my_dict))\n",
      "\u001b[1;31mTypeError\u001b[0m: unsupported operand type(s) for +: 'int' and 'str'"
     ]
    }
   ],
   "source": [
    "print(sum(my_dict))"
   ]
  },
  {
   "cell_type": "code",
   "execution_count": 11,
   "id": "469d26d4-a17d-4151-b5f2-1c2a1f9bb718",
   "metadata": {},
   "outputs": [
    {
     "name": "stdout",
     "output_type": "stream",
     "text": [
      "6\n"
     ]
    }
   ],
   "source": [
    "d={1: 'Neeraj', 2: 'Rahul', 3: 'Ravi'}\n",
    "print(sum(d))"
   ]
  },
  {
   "cell_type": "code",
   "execution_count": 13,
   "id": "ef4191eb-8dc1-4fdc-b0ca-7d2e0fa20efd",
   "metadata": {},
   "outputs": [
    {
     "name": "stdout",
     "output_type": "stream",
     "text": [
      "{1: 'Neeraj', 2: 'Rahul', 3: 'Ravi', '': 'new'}\n"
     ]
    }
   ],
   "source": [
    "d['']='new'\n",
    "print(d)"
   ]
  },
  {
   "cell_type": "code",
   "execution_count": 14,
   "id": "b32162f4-6ff9-4d7c-a81c-10dfebda3db0",
   "metadata": {},
   "outputs": [
    {
     "ename": "TypeError",
     "evalue": "'>' not supported between instances of 'str' and 'int'",
     "output_type": "error",
     "traceback": [
      "\u001b[1;31m---------------------------------------------------------------------------\u001b[0m",
      "\u001b[1;31mTypeError\u001b[0m                                 Traceback (most recent call last)",
      "Cell \u001b[1;32mIn[14], line 1\u001b[0m\n\u001b[1;32m----> 1\u001b[0m \u001b[38;5;28mprint\u001b[39m(\u001b[38;5;28mmax\u001b[39m(d))\n",
      "\u001b[1;31mTypeError\u001b[0m: '>' not supported between instances of 'str' and 'int'"
     ]
    }
   ],
   "source": [
    "print(max(d))"
   ]
  },
  {
   "cell_type": "code",
   "execution_count": 15,
   "id": "d9aa524c-b45b-4f9a-93e6-e1e8536008a3",
   "metadata": {},
   "outputs": [
    {
     "ename": "SyntaxError",
     "evalue": "invalid syntax (2098014614.py, line 1)",
     "output_type": "error",
     "traceback": [
      "\u001b[1;36m  Cell \u001b[1;32mIn[15], line 1\u001b[1;36m\u001b[0m\n\u001b[1;33m    d[]='new'\u001b[0m\n\u001b[1;37m      ^\u001b[0m\n\u001b[1;31mSyntaxError\u001b[0m\u001b[1;31m:\u001b[0m invalid syntax\n"
     ]
    }
   ],
   "source": [
    "d[]='new'\n",
    "print(d)"
   ]
  },
  {
   "cell_type": "code",
   "execution_count": 16,
   "id": "c0388b83-a0eb-4c6d-9527-c903afc17828",
   "metadata": {},
   "outputs": [],
   "source": [
    "## functions:------\n",
    "1. max()\n",
    "2. min()\n",
    "3. sum()\n",
    "4. len()\n",
    "5. type()\n",
    "6. id()\n",
    "7. dict()"
   ]
  },
  {
   "cell_type": "code",
   "execution_count": 18,
   "id": "cea2d2ba-e9c4-46e7-8df1-841b3630a94d",
   "metadata": {},
   "outputs": [],
   "source": [
    "# methods:----\n",
    "# print(d.clear())\n",
    "# print(d)"
   ]
  },
  {
   "cell_type": "code",
   "execution_count": 19,
   "id": "e415674b-7590-4f0b-91b9-ca2b714451ae",
   "metadata": {},
   "outputs": [
    {
     "name": "stdout",
     "output_type": "stream",
     "text": [
      "1919707856640\n",
      "1919731011776\n"
     ]
    }
   ],
   "source": [
    "x=d.copy()\n",
    "print(id(d))\n",
    "print(id(x))"
   ]
  },
  {
   "cell_type": "code",
   "execution_count": 24,
   "id": "9a9f7906-026a-4667-bf14-8b66244be1a9",
   "metadata": {},
   "outputs": [
    {
     "name": "stdout",
     "output_type": "stream",
     "text": [
      "{'n': 50, 'e': 50, 'r': 50, 'a': 50, 'j': 50}\n"
     ]
    }
   ],
   "source": [
    "new = 'neeraj'\n",
    "x = dict.fromkeys(new,50)\n",
    "print(x)"
   ]
  },
  {
   "cell_type": "code",
   "execution_count": 25,
   "id": "ca1b68a0-1061-4d33-b216-817385a53b8b",
   "metadata": {},
   "outputs": [
    {
     "name": "stdout",
     "output_type": "stream",
     "text": [
      "50\n"
     ]
    }
   ],
   "source": [
    "print(x.get('n'))"
   ]
  },
  {
   "cell_type": "code",
   "execution_count": 26,
   "id": "356b6e9b-a69d-45bb-b9b8-5aee5432d793",
   "metadata": {},
   "outputs": [
    {
     "name": "stdout",
     "output_type": "stream",
     "text": [
      "dict_items([('n', 50), ('e', 50), ('r', 50), ('a', 50), ('j', 50)])\n"
     ]
    }
   ],
   "source": [
    "print(x.items())"
   ]
  },
  {
   "cell_type": "code",
   "execution_count": 27,
   "id": "005a3287-94b3-459f-8242-0b8a9b1d3efb",
   "metadata": {},
   "outputs": [
    {
     "name": "stdout",
     "output_type": "stream",
     "text": [
      "dict_keys(['n', 'e', 'r', 'a', 'j'])\n"
     ]
    }
   ],
   "source": [
    "print(x.keys())"
   ]
  },
  {
   "cell_type": "code",
   "execution_count": 37,
   "id": "9ff6fc34-b4ce-4a30-b931-8240bc28edcc",
   "metadata": {},
   "outputs": [
    {
     "name": "stdout",
     "output_type": "stream",
     "text": [
      "dict_values([50, 50, 50])\n",
      "{'e': 50, 'a': 50, 'j': 50}\n"
     ]
    }
   ],
   "source": [
    "print(x.values())\n",
    "y=x.copy()\n",
    "print(y)"
   ]
  },
  {
   "cell_type": "code",
   "execution_count": 36,
   "id": "11b71a3e-b6ac-46fc-9be3-c07c5007b07a",
   "metadata": {},
   "outputs": [
    {
     "name": "stdout",
     "output_type": "stream",
     "text": [
      "{'e': 50, 'a': 50, 'j': 50}\n"
     ]
    }
   ],
   "source": [
    "print(x)"
   ]
  },
  {
   "cell_type": "code",
   "execution_count": 41,
   "id": "e985378a-210d-4b89-8d52-8c6c05182bbc",
   "metadata": {},
   "outputs": [
    {
     "name": "stdout",
     "output_type": "stream",
     "text": [
      "('e', 50)\n",
      "{}\n"
     ]
    }
   ],
   "source": [
    "print(x.popitem())\n",
    "print(x)"
   ]
  },
  {
   "cell_type": "code",
   "execution_count": 40,
   "id": "2767ba0a-67db-45e4-838b-69e2e839edea",
   "metadata": {},
   "outputs": [
    {
     "name": "stdout",
     "output_type": "stream",
     "text": [
      "50\n"
     ]
    }
   ],
   "source": [
    "print(x.pop('a'))"
   ]
  },
  {
   "cell_type": "code",
   "execution_count": 43,
   "id": "41951b52-60b8-4579-bc2f-4e3255a57dc7",
   "metadata": {},
   "outputs": [
    {
     "name": "stdout",
     "output_type": "stream",
     "text": [
      "{'new1': 'neeraj'}\n"
     ]
    }
   ],
   "source": [
    "x.update({'new1':'neeraj'})\n",
    "print(x)"
   ]
  },
  {
   "cell_type": "code",
   "execution_count": null,
   "id": "98dd2767-adf0-4edb-b651-c78c95c0b2e0",
   "metadata": {},
   "outputs": [],
   "source": []
  }
 ],
 "metadata": {
  "kernelspec": {
   "display_name": "Python 3 (ipykernel)",
   "language": "python",
   "name": "python3"
  },
  "language_info": {
   "codemirror_mode": {
    "name": "ipython",
    "version": 3
   },
   "file_extension": ".py",
   "mimetype": "text/x-python",
   "name": "python",
   "nbconvert_exporter": "python",
   "pygments_lexer": "ipython3",
   "version": "3.12.7"
  }
 },
 "nbformat": 4,
 "nbformat_minor": 5
}
