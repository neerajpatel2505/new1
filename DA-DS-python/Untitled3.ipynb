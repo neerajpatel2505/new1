{
 "cells": [
  {
   "cell_type": "code",
   "execution_count": 15,
   "id": "1def982d-9acf-4b47-be94-e35c559986c6",
   "metadata": {},
   "outputs": [
    {
     "name": "stdout",
     "output_type": "stream",
     "text": [
      "f_name\n",
      "f_bank\n",
      "m_name\n",
      "m_bank\n"
     ]
    }
   ],
   "source": [
    "class Father:\n",
    "    def property(self):\n",
    "        self.name = \"f_name\"\n",
    "        self.bank = 'f_bank'\n",
    "        print(self.name)\n",
    "        print(self.bank)\n",
    "\n",
    "class Mother(Father):\n",
    "    def property(self):\n",
    "        self.name1 = \"m_name\"\n",
    "        self.bank2 = 'm_bank'\n",
    "        super().property()\n",
    "        print(self.name1)\n",
    "        print(self.bank2)\n",
    "\n",
    "# class Son(Father,Mother):\n",
    "#     pass\n",
    "\n",
    "# obj = Son()\n",
    "# obj.property()\n",
    "# print(\"Father_Propert_details = \",dir(Father))\n",
    "# print(\"Mother_Propert_details = \",dir(Mother))\n",
    "\n",
    "# print(\"Son_Propert_details = \",dir(Son))\n",
    "obj = Mother()\n",
    "obj.property()\n"
   ]
  },
  {
   "cell_type": "code",
   "execution_count": 18,
   "id": "d1e40357-5ce3-48cc-8fe0-10e44863ec37",
   "metadata": {},
   "outputs": [
    {
     "name": "stdout",
     "output_type": "stream",
     "text": [
      "From Class A\n",
      "From Class B\n",
      "From Class C\n",
      "From Class D\n",
      "From Class E\n"
     ]
    }
   ],
   "source": [
    "# Hybrid \n",
    "class A:\n",
    "    def first(self):\n",
    "        print(\"From Class A\")\n",
    "\n",
    "class B(A):\n",
    "    def second(self):\n",
    "        print(\"From Class B\")\n",
    "\n",
    "class C(B):\n",
    "    def third(self):\n",
    "        print(\"From Class C\")\n",
    "class D:\n",
    "    def fourth(self):\n",
    "        print(\"From Class D\")\n",
    "\n",
    "class E(C,D):\n",
    "    def fifth(self):\n",
    "        print(\"From Class E\")\n",
    "\n",
    "obj = E()\n",
    "# print(dir(obj))\n",
    "obj.first()\n",
    "obj.second()\n",
    "obj.third()\n",
    "obj.fourth()\n",
    "obj.fifth()"
   ]
  },
  {
   "cell_type": "code",
   "execution_count": 20,
   "id": "21d2dcb2-c144-4a31-96ca-52a482346c06",
   "metadata": {},
   "outputs": [
    {
     "name": "stdout",
     "output_type": "stream",
     "text": [
      "neeraj kumar\n"
     ]
    }
   ],
   "source": [
    "my_str = \"Neeraj kumar\"\n",
    "print(my_str.lower())"
   ]
  },
  {
   "cell_type": "code",
   "execution_count": 21,
   "id": "de2dc655-188f-4922-8bf5-56d78068c63a",
   "metadata": {},
   "outputs": [
    {
     "name": "stdout",
     "output_type": "stream",
     "text": [
      "NEERAJ KUMAR\n"
     ]
    }
   ],
   "source": [
    "my_str = \"Neeraj kumar\"\n",
    "print(my_str.upper())"
   ]
  },
  {
   "cell_type": "code",
   "execution_count": 22,
   "id": "a755c3b8-4631-49d2-b84c-123d91530048",
   "metadata": {},
   "outputs": [
    {
     "name": "stdout",
     "output_type": "stream",
     "text": [
      "nEERAJ KUMAR\n"
     ]
    }
   ],
   "source": [
    "my_str = \"Neeraj kumar\"\n",
    "print(my_str.swapcase())"
   ]
  },
  {
   "cell_type": "code",
   "execution_count": 23,
   "id": "46b058b1-2dc6-44fa-9526-0a51f27970ef",
   "metadata": {},
   "outputs": [
    {
     "name": "stdout",
     "output_type": "stream",
     "text": [
      "False\n"
     ]
    }
   ],
   "source": [
    "my_str = \"Neeraj kumar\"\n",
    "print(my_str.isnumeric())"
   ]
  },
  {
   "cell_type": "code",
   "execution_count": 25,
   "id": "baf658c0-ea1b-46d8-ac49-c37b1da56417",
   "metadata": {},
   "outputs": [
    {
     "name": "stdout",
     "output_type": "stream",
     "text": [
      "True\n"
     ]
    }
   ],
   "source": [
    "my_str = \"Neeraj kumar\"\n",
    "print(my_str.isascii())"
   ]
  },
  {
   "cell_type": "code",
   "execution_count": 26,
   "id": "6a529a0c-511f-494b-b693-d01cb428e3af",
   "metadata": {},
   "outputs": [
    {
     "name": "stdout",
     "output_type": "stream",
     "text": [
      "False\n"
     ]
    }
   ],
   "source": [
    "my_str = \"Neeraj kumar\"\n",
    "print(my_str.isalpha())"
   ]
  },
  {
   "cell_type": "code",
   "execution_count": 28,
   "id": "a70448af-5e41-4e68-b40c-10ac503ed68e",
   "metadata": {},
   "outputs": [
    {
     "name": "stdout",
     "output_type": "stream",
     "text": [
      "True\n"
     ]
    }
   ],
   "source": [
    "my_str = \"Neerajkumar\"\n",
    "print(my_str.isalpha())"
   ]
  },
  {
   "cell_type": "code",
   "execution_count": 29,
   "id": "94de0e44-87fe-407e-beff-baaeceb6e27d",
   "metadata": {},
   "outputs": [
    {
     "name": "stdout",
     "output_type": "stream",
     "text": [
      "7\n"
     ]
    }
   ],
   "source": [
    "my_str = \"Neeraj kumar\"\n",
    "print(my_str.find(\"k\"))"
   ]
  },
  {
   "cell_type": "code",
   "execution_count": 30,
   "id": "8d8fc25e-5e79-480e-a650-6c1eb2b96c46",
   "metadata": {},
   "outputs": [
    {
     "name": "stdout",
     "output_type": "stream",
     "text": [
      "7\n"
     ]
    }
   ],
   "source": [
    "my_str = \"Neeraj kumar\"\n",
    "print(my_str.index(\"k\"))"
   ]
  },
  {
   "cell_type": "code",
   "execution_count": 31,
   "id": "7d143cf6-0b63-4095-99b9-8cf6686eea79",
   "metadata": {},
   "outputs": [
    {
     "name": "stdout",
     "output_type": "stream",
     "text": [
      "Neeraj Kumar\n"
     ]
    }
   ],
   "source": [
    "str1 = \"Neeraj\"\n",
    "str2 = \"Kumar\"\n",
    "print(\" \".join([str1,str2]))"
   ]
  },
  {
   "cell_type": "code",
   "execution_count": 32,
   "id": "6f6ea8fc-ea37-4d99-a521-944b1c0334e3",
   "metadata": {},
   "outputs": [
    {
     "ename": "TypeError",
     "evalue": "str.join() takes exactly one argument (2 given)",
     "output_type": "error",
     "traceback": [
      "\u001b[1;31m---------------------------------------------------------------------------\u001b[0m",
      "\u001b[1;31mTypeError\u001b[0m                                 Traceback (most recent call last)",
      "Cell \u001b[1;32mIn[32], line 3\u001b[0m\n\u001b[0;32m      1\u001b[0m str1 \u001b[38;5;241m=\u001b[39m \u001b[38;5;124m\"\u001b[39m\u001b[38;5;124mNeeraj\u001b[39m\u001b[38;5;124m\"\u001b[39m\n\u001b[0;32m      2\u001b[0m str2 \u001b[38;5;241m=\u001b[39m \u001b[38;5;124m\"\u001b[39m\u001b[38;5;124mKumar\u001b[39m\u001b[38;5;124m\"\u001b[39m\n\u001b[1;32m----> 3\u001b[0m \u001b[38;5;28mprint\u001b[39m(\u001b[38;5;124m\"\u001b[39m\u001b[38;5;124m \u001b[39m\u001b[38;5;124m\"\u001b[39m\u001b[38;5;241m.\u001b[39mjoin(str1,str2))\n",
      "\u001b[1;31mTypeError\u001b[0m: str.join() takes exactly one argument (2 given)"
     ]
    }
   ],
   "source": [
    "str1 = \"Neeraj\"\n",
    "str2 = \"Kumar\"\n",
    "print(\" \".join(str1,str2))"
   ]
  },
  {
   "cell_type": "code",
   "execution_count": null,
   "id": "f1c18457-2539-42e4-96f9-de4393d99372",
   "metadata": {},
   "outputs": [],
   "source": []
  }
 ],
 "metadata": {
  "kernelspec": {
   "display_name": "Python 3 (ipykernel)",
   "language": "python",
   "name": "python3"
  },
  "language_info": {
   "codemirror_mode": {
    "name": "ipython",
    "version": 3
   },
   "file_extension": ".py",
   "mimetype": "text/x-python",
   "name": "python",
   "nbconvert_exporter": "python",
   "pygments_lexer": "ipython3",
   "version": "3.12.4"
  }
 },
 "nbformat": 4,
 "nbformat_minor": 5
}
