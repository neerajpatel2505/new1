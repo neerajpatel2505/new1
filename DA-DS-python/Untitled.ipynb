{
 "cells": [
  {
   "cell_type": "code",
   "execution_count": null,
   "id": "8563bfd0-96a5-4a65-8f15-c943292a28ae",
   "metadata": {},
   "outputs": [],
   "source": [
    "Instance variable:-------"
   ]
  },
  {
   "cell_type": "code",
   "execution_count": 4,
   "id": "f29ea098-92ba-4676-86b3-4756b1a8c454",
   "metadata": {},
   "outputs": [
    {
     "name": "stdout",
     "output_type": "stream",
     "text": [
      "Neeraj\n",
      "37\n",
      "Neeraj\n",
      "37\n",
      "Neeraj\n",
      "37\n",
      "Neeraj\n",
      "37\n",
      "[10, 20, 30, 40, 50]\n",
      "SHSC\n"
     ]
    }
   ],
   "source": [
    "class Student:\n",
    "    def __init__(self,name,age):\n",
    "        self.x=name\n",
    "        self.y=age\n",
    "        print(self.x)             # call\n",
    "        print(self.y)             # call\n",
    "    def add(self,school):\n",
    "        self.school = school      # Declare\n",
    "        print(self.x)             # call\n",
    "        print(self.y)             # call\n",
    "    def show_details(self):\n",
    "        print(self.x)             # call\n",
    "        print(self.y)             # call\n",
    "        print(self.marks          # call\n",
    "        print(self.school)        # call\n",
    "obj = Student(\"Neeraj\",37)\n",
    "obj.marks = [10,20,30,40,50]  # declare\n",
    "print(obj.x)                  # call\n",
    "print(obj.y)                  # call\n",
    "obj.add(\"SHSC\")\n",
    "obj.show_details()"
   ]
  },
  {
   "cell_type": "code",
   "execution_count": null,
   "id": "7c9f5686-3158-4ca7-9171-25bd3457c35c",
   "metadata": {},
   "outputs": [],
   "source": []
  }
 ],
 "metadata": {
  "kernelspec": {
   "display_name": "Python 3 (ipykernel)",
   "language": "python",
   "name": "python3"
  },
  "language_info": {
   "codemirror_mode": {
    "name": "ipython",
    "version": 3
   },
   "file_extension": ".py",
   "mimetype": "text/x-python",
   "name": "python",
   "nbconvert_exporter": "python",
   "pygments_lexer": "ipython3",
   "version": "3.12.4"
  }
 },
 "nbformat": 4,
 "nbformat_minor": 5
}
