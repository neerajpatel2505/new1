{
 "cells": [
  {
   "cell_type": "code",
   "execution_count": 1,
   "id": "3449e36b-4645-40bf-94e1-2ae7a49d5a4b",
   "metadata": {},
   "outputs": [],
   "source": [
    "# list-----------------------"
   ]
  },
  {
   "cell_type": "code",
   "execution_count": 2,
   "id": "5b255536-dd5b-4cc9-aa69-d04479df782e",
   "metadata": {},
   "outputs": [
    {
     "name": "stdout",
     "output_type": "stream",
     "text": [
      "4\n"
     ]
    }
   ],
   "source": [
    "my_list = [10,20,30,'Neeraj']\n",
    "print(len(my_list))"
   ]
  },
  {
   "cell_type": "code",
   "execution_count": 3,
   "id": "b3060949-be4b-4fc3-9c92-f280a24d2225",
   "metadata": {},
   "outputs": [
    {
     "ename": "TypeError",
     "evalue": "'>' not supported between instances of 'str' and 'int'",
     "output_type": "error",
     "traceback": [
      "\u001b[1;31m---------------------------------------------------------------------------\u001b[0m",
      "\u001b[1;31mTypeError\u001b[0m                                 Traceback (most recent call last)",
      "Cell \u001b[1;32mIn[3], line 2\u001b[0m\n\u001b[0;32m      1\u001b[0m my_list \u001b[38;5;241m=\u001b[39m [\u001b[38;5;241m10\u001b[39m,\u001b[38;5;241m20\u001b[39m,\u001b[38;5;241m30\u001b[39m,\u001b[38;5;124m'\u001b[39m\u001b[38;5;124mNeeraj\u001b[39m\u001b[38;5;124m'\u001b[39m]\n\u001b[1;32m----> 2\u001b[0m \u001b[38;5;28mprint\u001b[39m(\u001b[38;5;28mmax\u001b[39m(my_list))\n",
      "\u001b[1;31mTypeError\u001b[0m: '>' not supported between instances of 'str' and 'int'"
     ]
    }
   ],
   "source": [
    "my_list = [10,20,30,'Neeraj']\n",
    "print(max(my_list))"
   ]
  },
  {
   "cell_type": "code",
   "execution_count": 4,
   "id": "1fb02731-66f4-4ab7-9a2c-7983af4d955e",
   "metadata": {},
   "outputs": [
    {
     "name": "stdout",
     "output_type": "stream",
     "text": [
      "30\n"
     ]
    }
   ],
   "source": [
    "my_list = [10,20,30]\n",
    "print(max(my_list))"
   ]
  },
  {
   "cell_type": "code",
   "execution_count": 5,
   "id": "fd773580-a2e6-44b0-b789-10532e02e8f9",
   "metadata": {},
   "outputs": [
    {
     "name": "stdout",
     "output_type": "stream",
     "text": [
      "vishnu\n"
     ]
    }
   ],
   "source": [
    "my_list = ['neeraj','raj','rahul','vishnu']\n",
    "print(max(my_list))"
   ]
  },
  {
   "cell_type": "code",
   "execution_count": 7,
   "id": "6c7d840f-cf50-4321-9b85-b1627448f45e",
   "metadata": {},
   "outputs": [
    {
     "name": "stdout",
     "output_type": "stream",
     "text": [
      "10\n"
     ]
    }
   ],
   "source": [
    "my_list = [10,20,30]\n",
    "print(min(my_list))"
   ]
  },
  {
   "cell_type": "code",
   "execution_count": 10,
   "id": "2e7dd51e-9c74-4631-a66f-2c6a7edce426",
   "metadata": {},
   "outputs": [
    {
     "name": "stdout",
     "output_type": "stream",
     "text": [
      "nea\n"
     ]
    }
   ],
   "source": [
    "my_list = ['neeraj','raj','rahul','vishnu','nea']\n",
    "print(min(my_list))"
   ]
  },
  {
   "cell_type": "code",
   "execution_count": 11,
   "id": "5a748c67-04b5-4252-b468-cf3e5e7a2139",
   "metadata": {},
   "outputs": [
    {
     "name": "stdout",
     "output_type": "stream",
     "text": [
      "<class 'list'>\n"
     ]
    }
   ],
   "source": [
    "my_list = [10,20,30,'Neeraj']\n",
    "print(type(my_list))"
   ]
  },
  {
   "cell_type": "code",
   "execution_count": 12,
   "id": "0ffc7a67-b0b8-404e-8f3a-26f094d182d4",
   "metadata": {},
   "outputs": [
    {
     "name": "stdout",
     "output_type": "stream",
     "text": [
      "1461115536384\n"
     ]
    }
   ],
   "source": [
    "my_list = [10,20,30,'Neeraj']\n",
    "print(id(my_list))"
   ]
  },
  {
   "cell_type": "code",
   "execution_count": null,
   "id": "bc6b3b11-e74a-453a-9043-0c77f7f7241e",
   "metadata": {},
   "outputs": [],
   "source": [
    "# methods------------------"
   ]
  },
  {
   "cell_type": "code",
   "execution_count": 13,
   "id": "685060c5-6419-40de-b636-841618adc9c2",
   "metadata": {},
   "outputs": [
    {
     "name": "stdout",
     "output_type": "stream",
     "text": [
      "[10, 20, 30, 'Neeraj', 50]\n"
     ]
    }
   ],
   "source": [
    "my_list = [10,20,30,'Neeraj']\n",
    "my_list.append(50)\n",
    "print(my_list)"
   ]
  },
  {
   "cell_type": "code",
   "execution_count": 14,
   "id": "4abbf7d5-3109-4c4a-95cd-18d82d3392ff",
   "metadata": {},
   "outputs": [
    {
     "name": "stdout",
     "output_type": "stream",
     "text": [
      "[10, 20, 30, 'Neeraj', 'Rahul']\n"
     ]
    }
   ],
   "source": [
    "my_list = [10,20,30,'Neeraj']\n",
    "my_list.append('Rahul')\n",
    "print(my_list)"
   ]
  },
  {
   "cell_type": "code",
   "execution_count": 16,
   "id": "bae72f0c-b9dc-4707-8b00-a070a3b82e81",
   "metadata": {},
   "outputs": [
    {
     "name": "stdout",
     "output_type": "stream",
     "text": [
      "[10, 20, 30, 'Neeraj', 10, 20, 30, 40, 50, 'arhul']\n"
     ]
    }
   ],
   "source": [
    "my_list = [10,20,30,'Neeraj']\n",
    "my_list.extend([10,20,30,40,50,'arhul'])\n",
    "print(my_list)"
   ]
  },
  {
   "cell_type": "code",
   "execution_count": 17,
   "id": "015cf5b9-d54e-4521-a564-17fc2b97a9f5",
   "metadata": {},
   "outputs": [
    {
     "name": "stdout",
     "output_type": "stream",
     "text": [
      "[10, 20, 30, 'Neeraj', [10, 20, 30, 40, 50, 'arhul']]\n"
     ]
    }
   ],
   "source": [
    "my_list = [10,20,30,'Neeraj']\n",
    "my_list.append([10,20,30,40,50,'arhul'])\n",
    "print(my_list)"
   ]
  },
  {
   "cell_type": "code",
   "execution_count": 18,
   "id": "63337f87-98dc-4d37-8d8c-96f087832773",
   "metadata": {},
   "outputs": [
    {
     "name": "stdout",
     "output_type": "stream",
     "text": [
      "[[10, 20, 30, 40, 50, 'arhul'], 10, 20, 30, 'Neeraj']\n"
     ]
    }
   ],
   "source": [
    "my_list = [10,20,30,'Neeraj']\n",
    "my_list.insert(0,[10,20,30,40,50,'arhul'])\n",
    "print(my_list)"
   ]
  },
  {
   "cell_type": "code",
   "execution_count": 19,
   "id": "9131c473-c114-44f9-8c90-ab9da1d024f1",
   "metadata": {},
   "outputs": [
    {
     "name": "stdout",
     "output_type": "stream",
     "text": [
      "[10, [10, 20, 30, 40, 50, 'arhul'], 20, 30, 'Neeraj']\n"
     ]
    }
   ],
   "source": [
    "my_list = [10,20,30,'Neeraj']\n",
    "my_list.insert(1,[10,20,30,40,50,'arhul'])\n",
    "print(my_list)"
   ]
  },
  {
   "cell_type": "code",
   "execution_count": null,
   "id": "6362146b-2ee2-4110-990f-905a8d1f96e5",
   "metadata": {},
   "outputs": [],
   "source": []
  }
 ],
 "metadata": {
  "kernelspec": {
   "display_name": "Python 3 (ipykernel)",
   "language": "python",
   "name": "python3"
  },
  "language_info": {
   "codemirror_mode": {
    "name": "ipython",
    "version": 3
   },
   "file_extension": ".py",
   "mimetype": "text/x-python",
   "name": "python",
   "nbconvert_exporter": "python",
   "pygments_lexer": "ipython3",
   "version": "3.12.4"
  }
 },
 "nbformat": 4,
 "nbformat_minor": 5
}
