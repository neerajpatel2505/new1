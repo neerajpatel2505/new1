{
 "cells": [
  {
   "cell_type": "code",
   "execution_count": null,
   "id": "7fa29aa4-b91f-4fd6-abef-e90654bf7d09",
   "metadata": {},
   "outputs": [],
   "source": [
    "Delclaration of instance variables\n",
    "1. inside Class\n",
    "    1. In constructor\n",
    "    2. In instance methods\n",
    "2. Outside Class\n",
    "    1. thorugh object (Outside of the Class)\n",
    "\n",
    "Calling of instance variables:\n",
    "1. inside Class\n",
    "    1. In constructor\n",
    "    2. In instance methods\n",
    "2. Outside Class\n",
    "    1. thorugh object (Outside of the Class)"
   ]
  },
  {
   "cell_type": "code",
   "execution_count": null,
   "id": "bb7b6cbd-5fc4-47f3-90f4-0b29530fd226",
   "metadata": {},
   "outputs": [],
   "source": [
    "class Student:\n",
    "    def __init__(self,name,age):\n",
    "        self.x=name\n",
    "        self.y=age\n",
    "        print(self.x)             # call\n",
    "        print(self.y)             # call\n",
    "    def add(self,school):\n",
    "        self.school = school      # Declare\n",
    "        print(self.x)             # call\n",
    "        print(self.y)             # call\n",
    "    def show_details(self):\n",
    "        print(self.x)             # call\n",
    "        print(self.y)             # call\n",
    "        print(self.marks          # call\n",
    "        print(self.school)        # call\n",
    "obj = Student(\"Neeraj\",37)\n",
    "obj.marks = [10,20,30,40,50]  # declare\n",
    "print(obj.x)                  # call\n",
    "print(obj.y)                  # call\n",
    "obj.add(\"SHSC\")\n",
    "obj.show_details()"
   ]
  },
  {
   "cell_type": "code",
   "execution_count": null,
   "id": "9fc9a719-7e78-4fbd-9223-f4cb1231ab28",
   "metadata": {},
   "outputs": [],
   "source": [
    "3. Static/Class Variables:------------\n",
    "\n",
    "Delclaration of Static/Class variables\n",
    "1. inside Class\n",
    "    1. In constructor(thorugh Class_name)\n",
    "    2. In instance methods(thorugh Class_name)\n",
    "2. Outside Class\n",
    "    1. thorugh Class_name (Outside of the Class)\n",
    "\n",
    "Calling of Static/Class variables:\n",
    "1. inside Class\n",
    "    1. In constructor(thorugh Class_name)\n",
    "    2. In instance methods (thorugh Class_name)\n",
    "2. Outside Class\n",
    "    1. thorugh Class_name (Outside of the Class)"
   ]
  },
  {
   "cell_type": "code",
   "execution_count": 20,
   "id": "5ebed312-5546-4ff1-8c11-1d2aad9d1a2a",
   "metadata": {},
   "outputs": [
    {
     "name": "stdout",
     "output_type": "stream",
     "text": [
      "Calling inside of Constructor =  SHSC\n",
      "My_City= Bhopal\n",
      "My_School= SHSC\n",
      "Calling inside of instance method =  SHSC\n",
      "Calling inside of instance method =  Bhopal\n",
      "School_code= 101\n",
      "SHSC\n",
      "Bhopal\n",
      "101\n",
      "Calling inside of instance method =  Indra Bahadur\n"
     ]
    }
   ],
   "source": [
    "class Student:\n",
    "    \"Student Information\"\n",
    "    school = \"SHSC\"                         # declaration of static variable in side class but outside of the mehtod.......\n",
    "    def __init__(self,name,age):\n",
    "        self.name = name\n",
    "        self.age = age\n",
    "        Student.city = \"Bhopal\"             # declaration of static variable inside constrctor.......\n",
    "        print(\"Calling inside of Constructor = \",Student.school)               # calling of static variable.......\n",
    "    def add_detail(self):\n",
    "        Student.school_code=101             # declaration of static variable inside instance method.......\n",
    "        print(\"Calling inside of instance method = \",Student.school)               # calling of static variable.......\n",
    "        print(\"Calling inside of instance method = \",Student.city)                 # calling of static variable.......\n",
    "    def show_detail(self):\n",
    "        print(Student.school)\n",
    "        print(Student.city)\n",
    "        print(Student.school_code)\n",
    "        print(\"Calling inside of instance method = \",Student.principal)\n",
    "        \n",
    "obj = Student(\"Neeraj\",37)\n",
    "print(\"My_City=\",Student.city)\n",
    "print(\"My_School=\",Student.school)\n",
    "obj.add_detail()\n",
    "print(\"School_code=\",Student.school_code)\n",
    "Student.principal = \"Indra Bahadur\"        # declaration of static variable.......\n",
    "obj.show_detail()\n",
    "# print(\"Calling outside of the class = \",Student.school_code)"
   ]
  },
  {
   "cell_type": "code",
   "execution_count": null,
   "id": "82414671-1f54-425f-9350-dcb0f62db0de",
   "metadata": {},
   "outputs": [],
   "source": [
    "class Student:\n",
    "    \"Student Information\"\n",
    "    school = \"SHSC\"                         # declaration of static variable in side class but outside of the mehtod.......\n",
    "    def __init__(self,name,age):\n",
    "        self.name = name\n",
    "        self.age = age\n",
    "        Student.city = \"Bhopal\"              # declaration of static variable inside constrctor.......\n",
    "    def add_detail(self):\n",
    "        Student.school_code=101             # declaration of static variable inside instance method.......\n",
    "obj = Student(\"Neeraj\",37)\n",
    "Student.principal = \"Indra Bahadur\"        # declaration of static variable.......\n",
    "\n"
   ]
  },
  {
   "cell_type": "code",
   "execution_count": 4,
   "id": "3742987f-9968-4639-a370-109288168b58",
   "metadata": {},
   "outputs": [
    {
     "name": "stdout",
     "output_type": "stream",
     "text": [
      "Neeraj\n",
      "37\n",
      "Neeraj\n",
      "37\n",
      "Neeraj\n",
      "37\n",
      "Neeraj\n",
      "37\n",
      "[10, 20, 30, 40, 50]\n",
      "SHSC\n",
      "20\n",
      "20\n"
     ]
    }
   ],
   "source": [
    "class Student:\n",
    "    def __init__(self,name,age):\n",
    "        self.x=name\n",
    "        self.y=age\n",
    "        print(self.x)             # call\n",
    "        print(self.y)             # call\n",
    "    def add(self,school):\n",
    "        self.school = school      # Declare\n",
    "        print(self.x)             # call\n",
    "        print(self.y)             # call\n",
    "    def show_details(self):\n",
    "        print(self.x)             # call\n",
    "        print(self.y)             # call\n",
    "        print(self.marks)          # call\n",
    "        print(self.school)        # call\n",
    "obj = Student(\"Neeraj\",37)\n",
    "obj.marks = [10,20,30,40,50]  # declare\n",
    "print(obj.x)                  # call\n",
    "print(obj.y)                  # call\n",
    "obj.add(\"SHSC\")\n",
    "obj.show_details()\n",
    "new()\n",
    "print(x)"
   ]
  },
  {
   "cell_type": "code",
   "execution_count": null,
   "id": "2aeec9aa-c9f0-49d4-b1e4-1a3f2dc7f5f9",
   "metadata": {},
   "outputs": [],
   "source": [
    "3. Local Variables:---------(Scope dependent)\n",
    "Delclaration of local variable\n",
    "    1. inside Class\n",
    "        1. In constructor\n",
    "        2. In instance methods\n",
    "        3. In class method\n",
    "        4. In static method\n",
    "    2. Outside Class\n",
    "\n",
    "Calling of local variable\n",
    "    1. inside Class\n",
    "        1. In constructor\n",
    "        2. In instance methods\n",
    "        3. In class method\n",
    "        4. In static method\n",
    "    2. Outside Class"
   ]
  },
  {
   "cell_type": "code",
   "execution_count": 14,
   "id": "8fac49b3-2cf4-429b-a7b5-2fe5c67ee0bf",
   "metadata": {},
   "outputs": [
    {
     "name": "stdout",
     "output_type": "stream",
     "text": [
      "10\n",
      "Neeraj\n",
      "37\n",
      "10\n",
      "10\n"
     ]
    }
   ],
   "source": [
    "x=10\n",
    "class Student:\n",
    "    \"Student Information\"\n",
    "    def __init__(self,name,age):\n",
    "        self.name = name\n",
    "        self.age = age\n",
    "        print(x)\n",
    "    def show_detail(self):\n",
    "        x=20\n",
    "        print(self.name)\n",
    "        print(self.age)\n",
    "        print(globals()['x'])\n",
    "        \n",
    "obj = Student(\"Neeraj\",37)\n",
    "obj.show_detail()\n",
    "print(x)\n",
    "\n",
    "# obj1 = Student(\"Rahul\",35)\n",
    "# obj1.show_detail()\n",
    "\n",
    "# print(dir(obj))"
   ]
  },
  {
   "cell_type": "code",
   "execution_count": 5,
   "id": "d710e3d2-1de8-4851-931d-bda4ee4ba503",
   "metadata": {},
   "outputs": [
    {
     "name": "stdout",
     "output_type": "stream",
     "text": [
      "10\n"
     ]
    }
   ],
   "source": [
    "x=10\n",
    "def new():\n",
    "    x=20\n",
    "    print(x)\n",
    "    globals()['x'] = x\n",
    "\n",
    "print(x)"
   ]
  },
  {
   "cell_type": "code",
   "execution_count": 11,
   "id": "fe325cb4-c43b-40b7-be23-ef67510c751b",
   "metadata": {},
   "outputs": [
    {
     "name": "stdout",
     "output_type": "stream",
     "text": [
      "10\n",
      "<class '__main__.Student'>\n",
      "1641048257664\n",
      "1641048257664\n",
      "1641048257664\n"
     ]
    }
   ],
   "source": [
    "class Student:\n",
    "    x=10\n",
    "    print(x)\n",
    "\n",
    "print(Student)\n",
    "print(id(Student))\n",
    "obj1 = Student\n",
    "print(id(obj1))\n",
    "\n",
    "obj2 = Student\n",
    "print(id(obj2))"
   ]
  },
  {
   "cell_type": "code",
   "execution_count": 14,
   "id": "2f48eb39-f225-493e-86f3-86ff7c421a4e",
   "metadata": {},
   "outputs": [
    {
     "name": "stdout",
     "output_type": "stream",
     "text": [
      "10\n",
      "<class '__main__.Student'>\n",
      "1641048258656\n",
      "1641084810064\n",
      "1641084808576\n"
     ]
    }
   ],
   "source": [
    "class Student:\n",
    "    x=10\n",
    "    print(x)\n",
    "    def __init__(self):\n",
    "        pass\n",
    "print(Student)\n",
    "print(id(Student))\n",
    "obj1 = Student()\n",
    "print(id(obj1))\n",
    "\n",
    "obj2 = Student()\n",
    "print(id(obj2))"
   ]
  },
  {
   "cell_type": "code",
   "execution_count": 32,
   "id": "bfb8f7e9-b0ee-4bf7-b681-86d5cfd8ff63",
   "metadata": {},
   "outputs": [
    {
     "name": "stdout",
     "output_type": "stream",
     "text": [
      "Neeraj\n",
      "37\n",
      "Neeraj\n",
      "37\n"
     ]
    }
   ],
   "source": [
    "class Student:\n",
    "    \"Student Information\"\n",
    "    def __init__(self,name,age):\n",
    "        self.name = name\n",
    "        self.age = age\n",
    "    def show_detail(self):\n",
    "        print(self.name)\n",
    "        print(self.age)\n",
    "    def new(self):\n",
    "        self.x = self.show_detail()\n",
    "        # print(self.x)\n",
    "        \n",
    "obj = Student(\"Neeraj\",37)\n",
    "obj.show_detail()\n",
    "obj.new()\n",
    "obj.x\n"
   ]
  },
  {
   "cell_type": "code",
   "execution_count": 38,
   "id": "4fc3f2ba-0bd5-4240-827e-7d91de0e4438",
   "metadata": {},
   "outputs": [
    {
     "name": "stdout",
     "output_type": "stream",
     "text": [
      "10\n",
      "100\n",
      "100\n"
     ]
    }
   ],
   "source": [
    "x=10\n",
    "class New:\n",
    "    def add():\n",
    "        global x\n",
    "        print(x)\n",
    "        x=100\n",
    "        print(x)\n",
    "    def add1():\n",
    "        print(x)\n",
    "\n",
    "obj = New\n",
    "obj.add()\n",
    "obj.add1()\n",
    "        "
   ]
  },
  {
   "cell_type": "code",
   "execution_count": 39,
   "id": "76b2160d-9a49-4361-a1b6-a90e64438ac1",
   "metadata": {},
   "outputs": [
    {
     "name": "stdout",
     "output_type": "stream",
     "text": [
      "10\n",
      "Hello\n"
     ]
    }
   ],
   "source": [
    "x=10\n",
    "def add():\n",
    "    print(x)\n",
    "    print(\"Hello\")\n",
    "add()\n"
   ]
  },
  {
   "cell_type": "code",
   "execution_count": 40,
   "id": "a3120bf5-d10c-4fef-9a95-4a98b90b28a3",
   "metadata": {},
   "outputs": [
    {
     "name": "stdout",
     "output_type": "stream",
     "text": [
      "10\n",
      "Hello\n"
     ]
    }
   ],
   "source": [
    "x=10\n",
    "def add():\n",
    "    print(x)\n",
    "    print(\"Hello\")\n",
    "add()"
   ]
  },
  {
   "cell_type": "code",
   "execution_count": 41,
   "id": "c26cdb5d-ddf9-48db-98c1-7c40c9a51246",
   "metadata": {},
   "outputs": [],
   "source": [
    "x=10\n",
    "class New:\n",
    "    x=50\n",
    "    def add():\n",
    "        print(x)\n",
    "    def add1():\n",
    "        print(x)\n",
    "obj = New"
   ]
  },
  {
   "cell_type": "code",
   "execution_count": 42,
   "id": "34f862e1-076c-4b70-b0c0-b7c350a0d24a",
   "metadata": {},
   "outputs": [
    {
     "name": "stdout",
     "output_type": "stream",
     "text": [
      "1908796702336\n",
      "1908796702336\n"
     ]
    }
   ],
   "source": [
    "x=10\n",
    "class A:\n",
    "    def new():\n",
    "        print(x)\n",
    "    def new1():\n",
    "        print(x)\n",
    "        print(\"Hello\")\n",
    "        print(\"Welcome\")\n",
    "        print(\"Hi........\")\n",
    "        x=20\n",
    "\n",
    "obj = A\n",
    "print(id(obj))\n",
    "print(id(A))\n",
    "    "
   ]
  },
  {
   "cell_type": "code",
   "execution_count": 43,
   "id": "ce15e97b-f10c-4aba-a5ed-391f8626d2c1",
   "metadata": {},
   "outputs": [
    {
     "name": "stdout",
     "output_type": "stream",
     "text": [
      "1908796684480\n",
      "1908796684480\n"
     ]
    }
   ],
   "source": [
    "x=10\n",
    "class A:\n",
    "    def new(self):\n",
    "        print(x)\n",
    "    def new1(self):\n",
    "        print(x)\n",
    "        print(\"Hello\")\n",
    "        print(\"Welcome\")\n",
    "        print(\"Hi........\")\n",
    "        x=20\n",
    "\n",
    "obj = A\n",
    "print(id(obj))\n",
    "print(id(A))"
   ]
  },
  {
   "cell_type": "code",
   "execution_count": 44,
   "id": "bfc74393-98e1-4d72-b9ce-d5ea6322b9a2",
   "metadata": {},
   "outputs": [
    {
     "name": "stdout",
     "output_type": "stream",
     "text": [
      "1908830755424\n",
      "1908796693408\n"
     ]
    }
   ],
   "source": [
    "x=10\n",
    "class A:\n",
    "    def new(self):\n",
    "        print(x)\n",
    "    def new1(self):\n",
    "        print(x)\n",
    "        print(\"Hello\")\n",
    "        print(\"Welcome\")\n",
    "        print(\"Hi........\")\n",
    "        x=20\n",
    "\n",
    "obj = A()\n",
    "print(id(obj))\n",
    "print(id(A))"
   ]
  },
  {
   "cell_type": "code",
   "execution_count": 58,
   "id": "974f94de-7c8a-4f4c-94d3-2083210aa2d2",
   "metadata": {},
   "outputs": [
    {
     "name": "stdout",
     "output_type": "stream",
     "text": [
      "Text Calendar:\n",
      "   December 2024\n",
      "Mo Tu We Th Fr Sa Su\n",
      "                   1\n",
      " 2  3  4  5  6  7  8\n",
      " 9 10 11 12 13 14 15\n",
      "16 17 18 19 20 21 22\n",
      "23 24 25 26 27 28 29\n",
      "30 31\n",
      "\n"
     ]
    }
   ],
   "source": [
    "import calendar\n",
    "\n",
    "# 1. Display a calendar for a specific month\n",
    "year = 2024\n",
    "month = 12\n",
    "text_calendar = calendar.TextCalendar()\n",
    "print(\"Text Calendar:\")\n",
    "print(text_calendar.formatmonth(year, month))\n"
   ]
  },
  {
   "cell_type": "code",
   "execution_count": 59,
   "id": "a92f0f01-d595-457b-b645-9e35a4deedd6",
   "metadata": {},
   "outputs": [
    {
     "name": "stdout",
     "output_type": "stream",
     "text": [
      "HTML Calendar:\n",
      "<table border=\"0\" cellpadding=\"0\" cellspacing=\"0\" class=\"month\">\n",
      "<tr><th colspan=\"7\" class=\"month\">December 2024</th></tr>\n",
      "<tr><th class=\"mon\">Mon</th><th class=\"tue\">Tue</th><th class=\"wed\">Wed</th><th class=\"thu\">Thu</th><th class=\"fri\">Fri</th><th class=\"sat\">Sat</th><th class=\"sun\">Sun</th></tr>\n",
      "<tr><td class=\"noday\">&nbsp;</td><td class=\"noday\">&nbsp;</td><td class=\"noday\">&nbsp;</td><td class=\"noday\">&nbsp;</td><td class=\"noday\">&nbsp;</td><td class=\"noday\">&nbsp;</td><td class=\"sun\">1</td></tr>\n",
      "<tr><td class=\"mon\">2</td><td class=\"tue\">3</td><td class=\"wed\">4</td><td class=\"thu\">5</td><td class=\"fri\">6</td><td class=\"sat\">7</td><td class=\"sun\">8</td></tr>\n",
      "<tr><td class=\"mon\">9</td><td class=\"tue\">10</td><td class=\"wed\">11</td><td class=\"thu\">12</td><td class=\"fri\">13</td><td class=\"sat\">14</td><td class=\"sun\">15</td></tr>\n",
      "<tr><td class=\"mon\">16</td><td class=\"tue\">17</td><td class=\"wed\">18</td><td class=\"thu\">19</td><td class=\"fri\">20</td><td class=\"sat\">21</td><td class=\"sun\">22</td></tr>\n",
      "<tr><td class=\"mon\">23</td><td class=\"tue\">24</td><td class=\"wed\">25</td><td class=\"thu\">26</td><td class=\"fri\">27</td><td class=\"sat\">28</td><td class=\"sun\">29</td></tr>\n",
      "<tr><td class=\"mon\">30</td><td class=\"tue\">31</td><td class=\"noday\">&nbsp;</td><td class=\"noday\">&nbsp;</td><td class=\"noday\">&nbsp;</td><td class=\"noday\">&nbsp;</td><td class=\"noday\">&nbsp;</td></tr>\n",
      "</table>\n",
      "\n"
     ]
    }
   ],
   "source": [
    "# 2. Display an HTML calendar\n",
    "html_calendar = calendar.HTMLCalendar()\n",
    "print(\"HTML Calendar:\")\n",
    "print(html_calendar.formatmonth(year, month))"
   ]
  },
  {
   "cell_type": "code",
   "execution_count": 60,
   "id": "1096ee89-2db3-4e01-85e3-5135fa137ccc",
   "metadata": {},
   "outputs": [
    {
     "name": "stdout",
     "output_type": "stream",
     "text": [
      "Is 2024 a leap year? Yes\n"
     ]
    }
   ],
   "source": [
    "# 3. Check if a year is a leap year\n",
    "is_leap = calendar.isleap(year)\n",
    "print(f\"Is {year} a leap year? {'Yes' if is_leap else 'No'}\")"
   ]
  },
  {
   "cell_type": "code",
   "execution_count": 61,
   "id": "08a7b0b1-bab1-4e81-8c90-430eaf3448a0",
   "metadata": {},
   "outputs": [
    {
     "name": "stdout",
     "output_type": "stream",
     "text": [
      "Number of leap years from 2000 to 2029: 8\n"
     ]
    }
   ],
   "source": [
    "# 4. Get the number of leap years in a range\n",
    "leap_count = calendar.leapdays(2000, 2030)  # Excludes 2030\n",
    "print(f\"Number of leap years from 2000 to 2029: {leap_count}\")"
   ]
  },
  {
   "cell_type": "code",
   "execution_count": 62,
   "id": "d7b74ac3-f127-440c-af13-cd1413607e92",
   "metadata": {},
   "outputs": [
    {
     "name": "stdout",
     "output_type": "stream",
     "text": [
      "First weekday (0=Monday, 6=Sunday): 6\n",
      "Number of days in 12/2024: 31\n"
     ]
    }
   ],
   "source": [
    "# 5. Get the first weekday of the month and the number of days in the month\n",
    "first_weekday, days_in_month = calendar.monthrange(year, month)\n",
    "print(f\"First weekday (0=Monday, 6=Sunday): {first_weekday}\")\n",
    "print(f\"Number of days in {month}/{year}: {days_in_month}\")"
   ]
  },
  {
   "cell_type": "code",
   "execution_count": 63,
   "id": "572ae346-1000-43d3-a87f-9452f51414f8",
   "metadata": {},
   "outputs": [
    {
     "name": "stdout",
     "output_type": "stream",
     "text": [
      "Month Calendar Matrix:\n",
      "[0, 0, 0, 0, 0, 0, 1]\n",
      "[2, 3, 4, 5, 6, 7, 8]\n",
      "[9, 10, 11, 12, 13, 14, 15]\n",
      "[16, 17, 18, 19, 20, 21, 22]\n",
      "[23, 24, 25, 26, 27, 28, 29]\n",
      "[30, 31, 0, 0, 0, 0, 0]\n"
     ]
    }
   ],
   "source": [
    "# 6. Iterate through the days of a month (including zeroes for padding)\n",
    "month_days = calendar.monthcalendar(year, month)\n",
    "print(\"Month Calendar Matrix:\")\n",
    "for week in month_days:\n",
    "    print(week)"
   ]
  },
  {
   "cell_type": "code",
   "execution_count": 64,
   "id": "7ac77405-1862-4b85-8cf0-df82b5c701d6",
   "metadata": {},
   "outputs": [
    {
     "name": "stdout",
     "output_type": "stream",
     "text": [
      "Weekday Names: <calendar._localized_day object at 0x000001BC6B299FD0>\n",
      "Abbreviated Weekday Names: <calendar._localized_day object at 0x000001BC6B2C3DD0>\n"
     ]
    }
   ],
   "source": [
    "# 7. Weekday names and abbreviations\n",
    "print(\"Weekday Names:\", calendar.day_name)\n",
    "print(\"Abbreviated Weekday Names:\", calendar.day_abbr)"
   ]
  },
  {
   "cell_type": "code",
   "execution_count": 65,
   "id": "2cce0954-81d3-4ef7-82c3-1b596d8988d2",
   "metadata": {},
   "outputs": [
    {
     "name": "stdout",
     "output_type": "stream",
     "text": [
      "Custom Calendar with Sunday as the first day:\n",
      "   December 2024\n",
      "Su Mo Tu We Th Fr Sa\n",
      " 1  2  3  4  5  6  7\n",
      " 8  9 10 11 12 13 14\n",
      "15 16 17 18 19 20 21\n",
      "22 23 24 25 26 27 28\n",
      "29 30 31\n",
      "\n"
     ]
    }
   ],
   "source": [
    "# 8. Custom starting day of the week\n",
    "# Create a calendar with Sunday as the first day of the week\n",
    "sunday_calendar = calendar.TextCalendar(calendar.SUNDAY)\n",
    "print(\"Custom Calendar with Sunday as the first day:\")\n",
    "print(sunday_calendar.formatmonth(year, month))"
   ]
  },
  {
   "cell_type": "code",
   "execution_count": 66,
   "id": "bd48515b-9320-4f88-9ab6-f45c05861d82",
   "metadata": {},
   "outputs": [
    {
     "name": "stdout",
     "output_type": "stream",
     "text": [
      "Full Year Calendar:\n",
      "                              2024\n",
      "\n",
      "      January               February               March\n",
      "Mo Tu We Th Fr Sa Su  Mo Tu We Th Fr Sa Su  Mo Tu We Th Fr Sa Su\n",
      " 1  2  3  4  5  6  7            1  2  3  4               1  2  3\n",
      " 8  9 10 11 12 13 14   5  6  7  8  9 10 11   4  5  6  7  8  9 10\n",
      "15 16 17 18 19 20 21  12 13 14 15 16 17 18  11 12 13 14 15 16 17\n",
      "22 23 24 25 26 27 28  19 20 21 22 23 24 25  18 19 20 21 22 23 24\n",
      "29 30 31              26 27 28 29           25 26 27 28 29 30 31\n",
      "\n",
      "       April                  May                   June\n",
      "Mo Tu We Th Fr Sa Su  Mo Tu We Th Fr Sa Su  Mo Tu We Th Fr Sa Su\n",
      " 1  2  3  4  5  6  7         1  2  3  4  5                  1  2\n",
      " 8  9 10 11 12 13 14   6  7  8  9 10 11 12   3  4  5  6  7  8  9\n",
      "15 16 17 18 19 20 21  13 14 15 16 17 18 19  10 11 12 13 14 15 16\n",
      "22 23 24 25 26 27 28  20 21 22 23 24 25 26  17 18 19 20 21 22 23\n",
      "29 30                 27 28 29 30 31        24 25 26 27 28 29 30\n",
      "\n",
      "        July                 August              September\n",
      "Mo Tu We Th Fr Sa Su  Mo Tu We Th Fr Sa Su  Mo Tu We Th Fr Sa Su\n",
      " 1  2  3  4  5  6  7            1  2  3  4                     1\n",
      " 8  9 10 11 12 13 14   5  6  7  8  9 10 11   2  3  4  5  6  7  8\n",
      "15 16 17 18 19 20 21  12 13 14 15 16 17 18   9 10 11 12 13 14 15\n",
      "22 23 24 25 26 27 28  19 20 21 22 23 24 25  16 17 18 19 20 21 22\n",
      "29 30 31              26 27 28 29 30 31     23 24 25 26 27 28 29\n",
      "                                            30\n",
      "\n",
      "      October               November              December\n",
      "Mo Tu We Th Fr Sa Su  Mo Tu We Th Fr Sa Su  Mo Tu We Th Fr Sa Su\n",
      "    1  2  3  4  5  6               1  2  3                     1\n",
      " 7  8  9 10 11 12 13   4  5  6  7  8  9 10   2  3  4  5  6  7  8\n",
      "14 15 16 17 18 19 20  11 12 13 14 15 16 17   9 10 11 12 13 14 15\n",
      "21 22 23 24 25 26 27  18 19 20 21 22 23 24  16 17 18 19 20 21 22\n",
      "28 29 30 31           25 26 27 28 29 30     23 24 25 26 27 28 29\n",
      "                                            30 31\n",
      "\n"
     ]
    }
   ],
   "source": [
    "# 9. Printing the entire year calendar\n",
    "print(\"Full Year Calendar:\")\n",
    "print(calendar.TextCalendar().formatyear(year, 2, 1, 1, 3))"
   ]
  },
  {
   "cell_type": "code",
   "execution_count": 70,
   "id": "6a258fcb-be08-4974-9204-816984f86c2a",
   "metadata": {},
   "outputs": [
    {
     "name": "stdout",
     "output_type": "stream",
     "text": [
      "   December 2024\n",
      "Mo Tu We Th Fr Sa Su\n",
      "                   1\n",
      " 2  3  4  5  6  7  8\n",
      " 9 10 11 12 13 14 15\n",
      "16 17 18 19 20 21 22\n",
      "23 24 25 26 27 28 29\n",
      "30 31\n",
      "\n"
     ]
    }
   ],
   "source": [
    "import calendar\n",
    "\n",
    "year = 2024\n",
    "month = 12\n",
    "print(calendar.month(year,month))"
   ]
  },
  {
   "cell_type": "code",
   "execution_count": 73,
   "id": "7330dd15-94dc-4963-9531-7f0f7574c78a",
   "metadata": {},
   "outputs": [
    {
     "name": "stdout",
     "output_type": "stream",
     "text": [
      "                                  2025\n",
      "\n",
      "      January                   February                   March\n",
      "Mo Tu We Th Fr Sa Su      Mo Tu We Th Fr Sa Su      Mo Tu We Th Fr Sa Su\n",
      "       1  2  3  4  5                      1  2                      1  2\n",
      " 6  7  8  9 10 11 12       3  4  5  6  7  8  9       3  4  5  6  7  8  9\n",
      "13 14 15 16 17 18 19      10 11 12 13 14 15 16      10 11 12 13 14 15 16\n",
      "20 21 22 23 24 25 26      17 18 19 20 21 22 23      17 18 19 20 21 22 23\n",
      "27 28 29 30 31            24 25 26 27 28            24 25 26 27 28 29 30\n",
      "                                                    31\n",
      "\n",
      "       April                      May                       June\n",
      "Mo Tu We Th Fr Sa Su      Mo Tu We Th Fr Sa Su      Mo Tu We Th Fr Sa Su\n",
      "    1  2  3  4  5  6                1  2  3  4                         1\n",
      " 7  8  9 10 11 12 13       5  6  7  8  9 10 11       2  3  4  5  6  7  8\n",
      "14 15 16 17 18 19 20      12 13 14 15 16 17 18       9 10 11 12 13 14 15\n",
      "21 22 23 24 25 26 27      19 20 21 22 23 24 25      16 17 18 19 20 21 22\n",
      "28 29 30                  26 27 28 29 30 31         23 24 25 26 27 28 29\n",
      "                                                    30\n",
      "\n",
      "        July                     August                  September\n",
      "Mo Tu We Th Fr Sa Su      Mo Tu We Th Fr Sa Su      Mo Tu We Th Fr Sa Su\n",
      "    1  2  3  4  5  6                   1  2  3       1  2  3  4  5  6  7\n",
      " 7  8  9 10 11 12 13       4  5  6  7  8  9 10       8  9 10 11 12 13 14\n",
      "14 15 16 17 18 19 20      11 12 13 14 15 16 17      15 16 17 18 19 20 21\n",
      "21 22 23 24 25 26 27      18 19 20 21 22 23 24      22 23 24 25 26 27 28\n",
      "28 29 30 31               25 26 27 28 29 30 31      29 30\n",
      "\n",
      "      October                   November                  December\n",
      "Mo Tu We Th Fr Sa Su      Mo Tu We Th Fr Sa Su      Mo Tu We Th Fr Sa Su\n",
      "       1  2  3  4  5                      1  2       1  2  3  4  5  6  7\n",
      " 6  7  8  9 10 11 12       3  4  5  6  7  8  9       8  9 10 11 12 13 14\n",
      "13 14 15 16 17 18 19      10 11 12 13 14 15 16      15 16 17 18 19 20 21\n",
      "20 21 22 23 24 25 26      17 18 19 20 21 22 23      22 23 24 25 26 27 28\n",
      "27 28 29 30 31            24 25 26 27 28 29 30      29 30 31\n",
      "\n"
     ]
    }
   ],
   "source": [
    "import calendar\n",
    "\n",
    "year = 2025\n",
    "month = 12\n",
    "print(calendar.calendar(year))"
   ]
  },
  {
   "cell_type": "code",
   "execution_count": 4,
   "id": "ec42366d-8a79-4125-8a14-4b70490e8abb",
   "metadata": {},
   "outputs": [
    {
     "name": "stdout",
     "output_type": "stream",
     "text": [
      "This is first instance method....\n",
      "Constructor called......\n"
     ]
    }
   ],
   "source": [
    "class Student: \n",
    "    def __init__(self):\n",
    "        self.first()\n",
    "        print(\"Constructor called......\") \n",
    "        \n",
    "    def first(self):\n",
    "        print(\"This is first instance method....\")\n",
    "        \n",
    "    def second(self):\n",
    "        self.first()\n",
    "        print(\"This is second instance method....\")\n",
    "        \n",
    "    def third(self):\n",
    "        self.second()\n",
    "        print(\"This is third instance method....\")\n",
    "\n",
    "obj = Student()\n"
   ]
  },
  {
   "cell_type": "code",
   "execution_count": 9,
   "id": "621d4d32-30d3-4657-87c1-03626c2a4894",
   "metadata": {},
   "outputs": [
    {
     "name": "stdout",
     "output_type": "stream",
     "text": [
      "Name of book =  Python\n",
      "Name of author =  Guido van Rossum\n",
      "Price of book = 1500\n",
      "Name of book =  Python\n",
      "Name of author =  Guido van Rossum\n",
      "Price of book = 1500\n"
     ]
    }
   ],
   "source": [
    "# --------------------class_method------------------\n",
    "class Book:\n",
    "    price = 1000 # static variable or class variable\n",
    "    \n",
    "    def __init__(self,name,author):\n",
    "        self.name=name\n",
    "        self.author = author\n",
    "    \n",
    "    @classmethod  # with the help of class method we can modified static variable or class variable\n",
    "    def update_price(cls):\n",
    "        cls.price = 1500\n",
    "\n",
    "    def display(self):\n",
    "        print(\"Name of book = \",self.name)\n",
    "        print(\"Name of author = \",self.author)\n",
    "        print(\"Price of book =\",Book.price)\n",
    "\n",
    "obj = Book(\"Python\",\"Guido van Rossum\")\n",
    "obj.display()\n",
    "\n",
    "# obj.update_price()\n",
    "Book.update_price()\n",
    "\n",
    "obj.display()"
   ]
  },
  {
   "cell_type": "code",
   "execution_count": 13,
   "id": "91c494c5-60bb-4ddb-8bc9-111ccf4daafc",
   "metadata": {},
   "outputs": [
    {
     "data": {
      "text/plain": [
       "'Please visit again'"
      ]
     },
     "execution_count": 13,
     "metadata": {},
     "output_type": "execute_result"
    }
   ],
   "source": [
    "class Student:\n",
    "    @staticmethod\n",
    "    def great():\n",
    "        return \"Thank for visiting our site\"\n",
    "    @staticmethod\n",
    "    def great1():\n",
    "        return \"Please visit again\"\n",
    "    def new(self):\n",
    "        Student.great()\n",
    "    def normal():\n",
    "        return \"---------!!!!!----------\"\n",
    "\n",
    "obj = Student()\n",
    "obj.great()\n",
    "obj.great1()\n",
    "# # access static method\n",
    "# print(\"Access through class =\",Student.great())\n",
    "# print(\"Access through object =\",obj.great1())\n",
    "\n",
    "# # access normal method\n",
    "# print(\"Access through class =\",Student.normal())\n",
    "# print(\"Access through object =\",obj.normal()) # unable to access through object...\n"
   ]
  },
  {
   "cell_type": "code",
   "execution_count": 6,
   "id": "210d62e4-aa98-42ad-bc45-7153afd56361",
   "metadata": {},
   "outputs": [
    {
     "name": "stdout",
     "output_type": "stream",
     "text": [
      "['__class__', '__delattr__', '__dict__', '__dir__', '__doc__', '__eq__', '__format__', '__ge__', '__getattribute__', '__getstate__', '__gt__', '__hash__', '__init__', '__init_subclass__', '__le__', '__lt__', '__module__', '__ne__', '__new__', '__reduce__', '__reduce_ex__', '__repr__', '__setattr__', '__sizeof__', '__str__', '__subclasshook__', '__weakref__', 'display', 'display1']\n"
     ]
    }
   ],
   "source": [
    "class A:\n",
    "    def display(self):\n",
    "        print(\"Display called fron class A\")\n",
    "\n",
    "class B(A):\n",
    "    def display(self):\n",
    "        print(\"Display called fron class B\")\n",
    "\n",
    "    def display1(self):\n",
    "        self.display()\n",
    "        super().display()\n",
    "\n",
    "# obj = B()\n",
    "# obj.display()\n",
    "# obj.display1()\n",
    "print(dir(B))"
   ]
  },
  {
   "cell_type": "code",
   "execution_count": 7,
   "id": "778b2251-e5fc-41a0-9754-4c23ba815a71",
   "metadata": {},
   "outputs": [
    {
     "name": "stdout",
     "output_type": "stream",
     "text": [
      "<class 'type'>\n"
     ]
    }
   ],
   "source": [
    "print(B.__class__)"
   ]
  },
  {
   "cell_type": "code",
   "execution_count": 12,
   "id": "69df57e6-de3a-4d55-a928-cb7f483b7422",
   "metadata": {},
   "outputs": [
    {
     "name": "stdout",
     "output_type": "stream",
     "text": [
      "{'__module__': '__main__', 'display': <function B.display at 0x000001FF7F380180>, 'display1': <function B.display1 at 0x000001FF7F380400>, '__doc__': None}\n"
     ]
    }
   ],
   "source": [
    "print(B.__dict__)"
   ]
  },
  {
   "cell_type": "code",
   "execution_count": 13,
   "id": "31bdb0fb-caba-437d-a0ef-e01dce843d98",
   "metadata": {},
   "outputs": [
    {
     "name": "stdout",
     "output_type": "stream",
     "text": [
      "<method '__dir__' of 'object' objects>\n"
     ]
    }
   ],
   "source": [
    "print(B.__dir__)"
   ]
  },
  {
   "cell_type": "code",
   "execution_count": 14,
   "id": "50ddf75b-79a9-45fc-b811-817b3a3e7ec1",
   "metadata": {},
   "outputs": [
    {
     "name": "stdout",
     "output_type": "stream",
     "text": [
      "<slot wrapper '__eq__' of 'object' objects>\n"
     ]
    }
   ],
   "source": [
    "print(B.__eq__)"
   ]
  },
  {
   "cell_type": "code",
   "execution_count": 17,
   "id": "4d488a09-3ad9-4d9b-9977-8c7b757f37cc",
   "metadata": {},
   "outputs": [
    {
     "name": "stdout",
     "output_type": "stream",
     "text": [
      "<function B.display at 0x000001FF7F380180>\n"
     ]
    }
   ],
   "source": [
    "print(B.display)"
   ]
  },
  {
   "cell_type": "code",
   "execution_count": 18,
   "id": "4ca3344b-e353-43ee-8d01-1c5cd4a660ad",
   "metadata": {},
   "outputs": [
    {
     "ename": "SyntaxError",
     "evalue": "invalid decimal literal (1468411416.py, line 1)",
     "output_type": "error",
     "traceback": [
      "\u001b[1;36m  Cell \u001b[1;32mIn[18], line 1\u001b[1;36m\u001b[0m\n\u001b[1;33m    5__add__6\u001b[0m\n\u001b[1;37m     ^\u001b[0m\n\u001b[1;31mSyntaxError\u001b[0m\u001b[1;31m:\u001b[0m invalid decimal literal\n"
     ]
    }
   ],
   "source": [
    "5__add__6\n"
   ]
  },
  {
   "cell_type": "code",
   "execution_count": 19,
   "id": "a25bc717-91fe-48b9-87b3-bbf4fc165fa2",
   "metadata": {},
   "outputs": [
    {
     "name": "stdout",
     "output_type": "stream",
     "text": [
      "30\n"
     ]
    }
   ],
   "source": [
    "x=10\n",
    "y=20\n",
    "print(x.__add__(y))"
   ]
  },
  {
   "cell_type": "code",
   "execution_count": 21,
   "id": "ac18a875-c34c-4bd2-b58b-90bf0a084e68",
   "metadata": {},
   "outputs": [
    {
     "name": "stdout",
     "output_type": "stream",
     "text": [
      "\n"
     ]
    }
   ],
   "source": [
    "x = str(\"\")\n",
    "print(x)"
   ]
  },
  {
   "cell_type": "code",
   "execution_count": null,
   "id": "027b9e34-e5d1-4011-937a-d285a5d9d8c9",
   "metadata": {},
   "outputs": [],
   "source": []
  }
 ],
 "metadata": {
  "kernelspec": {
   "display_name": "Python 3 (ipykernel)",
   "language": "python",
   "name": "python3"
  },
  "language_info": {
   "codemirror_mode": {
    "name": "ipython",
    "version": 3
   },
   "file_extension": ".py",
   "mimetype": "text/x-python",
   "name": "python",
   "nbconvert_exporter": "python",
   "pygments_lexer": "ipython3",
   "version": "3.12.7"
  }
 },
 "nbformat": 4,
 "nbformat_minor": 5
}
