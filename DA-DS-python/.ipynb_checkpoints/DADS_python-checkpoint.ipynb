{
 "cells": [
  {
   "cell_type": "code",
   "execution_count": null,
   "id": "38f3805a-f78a-45a9-b115-81e6074a936f",
   "metadata": {},
   "outputs": [],
   "source": [
    "What is language ? \n",
    "Why it is required ? \n",
    "Type of languages ? \n",
    "1. Languages used in b/w humans(Hindi,English,etc.....).\n",
    "2. languages used in b/w human and hardware(programming language).\n",
    "Type of Programming Languages:\n",
    "1. Low level/Machine level language.\n",
    "2. Middle-level/Assembly language(Assembler).\n",
    "3. High-level language (Compiler/Interpreter).\n",
    "    I.    Python\n",
    "    II.   Java\n",
    "    III.  PHP\n",
    "    IV.   Ruby\n",
    "    V.    R etc.....\n"
   ]
  },
  {
   "cell_type": "code",
   "execution_count": null,
   "id": "bfc4d83e-77c8-431d-b9d9-471f973ec584",
   "metadata": {},
   "outputs": [],
   "source": [
    "Python:---\n",
    "    1. free\n",
    "    2. open source\n",
    "    3. High-level, general-purpose programming language."
   ]
  },
  {
   "cell_type": "code",
   "execution_count": null,
   "id": "31c90caa-9366-40d6-a019-49ad558cfa35",
   "metadata": {},
   "outputs": [],
   "source": [
    "Features/Advantages of Python:\n",
    "    1. On the basis of syntex Simple and easy to learn.\n",
    "    2. Platform Independent.\n",
    "    3. Compatible with other languages.\n",
    "    4. Dynamically Typed.\n",
    "    5. Both Procedure Oriented and Object Oriented.\n",
    "    6. Interpreted as well as compiler based.\n",
    "    7. Huge community support.\n",
    "    7. Extensive Library(like numpy, panda, matplotlib etc…)"
   ]
  },
  {
   "cell_type": "code",
   "execution_count": null,
   "id": "7df071a5-00df-4718-8d41-9ce95beb1289",
   "metadata": {},
   "outputs": [],
   "source": [
    "Limitations of Python:\n",
    "1.Performance and Speed: Python, being an interpreted language, is slower compared to \n",
    "  compiled languages like C or Java.\n",
    "2.Dynamic Typing: As a dynamically typed language, Python does not check variable types \n",
    "  at compile time, which can result in runtime errors.\n",
    "3.Web Development Support: Python lacks built-in support for web development. \n",
    "  Developers need to rely on third-party frameworks and libraries to create web \n",
    "  applications in Python.\n",
    "4.Mobile Computing: Python is not as well-suited for mobile computing as languages like \n",
    "  Java or Kotlin, partly due to its high memory consumption.\n",
    "5.Memory Management: The dynamic typing in Python allows variable data types to change \n",
    "  at any time, which can lead to memory leaks and other memory usage issues."
   ]
  },
  {
   "cell_type": "code",
   "execution_count": null,
   "id": "8cc6087e-99e7-4c59-b174-decbc3f475e6",
   "metadata": {},
   "outputs": [],
   "source": [
    "Application of Pythons:\n",
    "    1. Web development\n",
    "    2. Data Science and Analytic.\n",
    "    3. Scientific Computing.\n",
    "    4. Automations.\n",
    "    5. Scripting.\n",
    "    6. Machine Learning.\n",
    "    7. Deep learning."
   ]
  }
 ],
 "metadata": {
  "kernelspec": {
   "display_name": "Python 3 (ipykernel)",
   "language": "python",
   "name": "python3"
  },
  "language_info": {
   "codemirror_mode": {
    "name": "ipython",
    "version": 3
   },
   "file_extension": ".py",
   "mimetype": "text/x-python",
   "name": "python",
   "nbconvert_exporter": "python",
   "pygments_lexer": "ipython3",
   "version": "3.12.4"
  }
 },
 "nbformat": 4,
 "nbformat_minor": 5
}
