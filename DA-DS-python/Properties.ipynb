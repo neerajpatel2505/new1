{
 "cells": [
  {
   "cell_type": "code",
   "execution_count": 1,
   "id": "97090340-c8d9-4866-881f-300e89920e83",
   "metadata": {},
   "outputs": [],
   "source": [
    "# Properties of OOP's:------------\n",
    "    1. Inheritence.\n",
    "    2. Polymorphism.\n",
    "        I. Method over-loading\n",
    "        II.Method over-riding\n",
    "    3. Abstraction.\n",
    "    4. Encapsulation."
   ]
  },
  {
   "cell_type": "code",
   "execution_count": null,
   "id": "392d581d-2391-45cb-9c5e-a03c938e2360",
   "metadata": {},
   "outputs": [],
   "source": [
    "# singlr-level inheritence......."
   ]
  },
  {
   "cell_type": "code",
   "execution_count": 6,
   "id": "a3f62182-01d5-41fc-8707-f83cce2e39fe",
   "metadata": {},
   "outputs": [
    {
     "name": "stdout",
     "output_type": "stream",
     "text": [
      "Bhopal\n",
      "Nexon\n",
      "HDFC\n"
     ]
    }
   ],
   "source": [
    "class A:\n",
    "    def __init__(self,p_name):\n",
    "        self.p_name = p_name\n",
    "\n",
    "    def p_properties(self,home,car,bank):\n",
    "        self.home = home\n",
    "        self.car = car\n",
    "        self.bank = bank\n",
    "        print(self.home)\n",
    "        print(self.car)\n",
    "        print(self.bank)\n",
    "        \n",
    "\n",
    "class B(A):\n",
    "    def c_properties(self,quali):\n",
    "        self.quali = quali\n",
    "        # print(self.home)\n",
    "        # print(self.car)\n",
    "        # print(self.bank)\n",
    "        # print(self.quali)\n",
    "        self.p_properties(\"Bhopal\",'Nexon','HDFC')\n",
    "\n",
    "obj = B(\"Neeraj\")\n",
    "# obj.p_properties(\"Bhopal\",'Nexon','HDFC')\n",
    "obj.c_properties('M.Tech')"
   ]
  },
  {
   "cell_type": "code",
   "execution_count": 7,
   "id": "bccdcb97-5b04-4491-929a-64f60cd5ab3d",
   "metadata": {},
   "outputs": [
    {
     "name": "stdout",
     "output_type": "stream",
     "text": [
      "Python\n",
      "M.Tech\n",
      "Bhopal\n",
      "Nexon\n",
      "HDFC\n"
     ]
    }
   ],
   "source": [
    "# multi-level inheritence.......\n",
    "class A:\n",
    "    def __init__(self,p_name):\n",
    "        self.p_name = p_name\n",
    "\n",
    "    def p_properties(self,home,car,bank):\n",
    "        self.home = home\n",
    "        self.car = car\n",
    "        self.bank = bank\n",
    "        print(self.home)\n",
    "        print(self.car)\n",
    "        print(self.bank)\n",
    "        \n",
    "class B(A):\n",
    "    def c_properties(self,quali):\n",
    "        self.quali = quali\n",
    "        # print(self.home)\n",
    "        # print(self.car)\n",
    "        # print(self.bank)\n",
    "        print(self.quali)\n",
    "        self.p_properties(\"Bhopal\",'Nexon','HDFC')\n",
    "\n",
    "class C(B):\n",
    "    def cc_data(self,book):\n",
    "        self.book=book\n",
    "        print(self.book)\n",
    "        self.c_properties('M.Tech')\n",
    "obj = C(\"Neeraj\")\n",
    "# obj.p_properties(\"Bhopal\",'Nexon','HDFC')\n",
    "obj.cc_data(\"Python\")"
   ]
  },
  {
   "cell_type": "code",
   "execution_count": null,
   "id": "369e9c16-5614-475d-a278-d050aed8163d",
   "metadata": {},
   "outputs": [],
   "source": []
  }
 ],
 "metadata": {
  "kernelspec": {
   "display_name": "Python 3 (ipykernel)",
   "language": "python",
   "name": "python3"
  },
  "language_info": {
   "codemirror_mode": {
    "name": "ipython",
    "version": 3
   },
   "file_extension": ".py",
   "mimetype": "text/x-python",
   "name": "python",
   "nbconvert_exporter": "python",
   "pygments_lexer": "ipython3",
   "version": "3.12.4"
  }
 },
 "nbformat": 4,
 "nbformat_minor": 5
}
