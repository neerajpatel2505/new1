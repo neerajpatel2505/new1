{
 "cells": [
  {
   "cell_type": "code",
   "execution_count": null,
   "id": "c5ed7325-5ef8-4a6d-a1b1-456275dd9510",
   "metadata": {},
   "outputs": [],
   "source": [
    "# Encapsulation\n",
    "    access specifiers:---\n",
    "    1. public\n",
    "    2. protected\n",
    "    3. private"
   ]
  },
  {
   "cell_type": "code",
   "execution_count": 1,
   "id": "f47d2ff3-ecb5-445d-82a7-718c20c0e2bc",
   "metadata": {},
   "outputs": [
    {
     "name": "stdout",
     "output_type": "stream",
     "text": [
      "Account Number: 12345\n",
      "Balance (via getter): 1000\n",
      "Directly accessing balance: 1000\n",
      "Deposited $500. New balance: $1500\n",
      " Withdrew $300. New balance: $1200\n"
     ]
    }
   ],
   "source": [
    "# protected variable------------\n",
    "class BankAccount:\n",
    "    def __init__(self, account_number, balance):\n",
    "        self.account_number = account_number  # Public attribute\n",
    "        self._balance = balance               # Protected attribute\n",
    "\n",
    "    def deposit(self, amount):\n",
    "        if amount > 0:\n",
    "            self._balance += amount\n",
    "            print(f\"Deposited ${amount}. New balance: ${self._balance}\")\n",
    "        else:\n",
    "            print(\"Invalid deposit amount!\")\n",
    "\n",
    "    def withdraw(self, amount):\n",
    "        if 0 < amount <= self._balance:\n",
    "            self._balance -= amount\n",
    "            print(f\" Withdrew ${amount}. New balance: ${self._balance}\")\n",
    "        else:\n",
    "            print(\"Invalid or insufficient funds!\")\n",
    "\n",
    "    def get_balance(self):  # Getter for _balance\n",
    "        return self._balance\n",
    "\n",
    "account = BankAccount(\"12345\", 1000)\n",
    "print(f\"Account Number: {account.account_number}\")\n",
    "print(f\"Balance (via getter): {account.get_balance()}\")\n",
    "print(f\"Directly accessing balance: {account._balance}\")\n",
    "account.deposit(500)\n",
    "account.withdraw(300)\n"
   ]
  },
  {
   "cell_type": "code",
   "execution_count": 8,
   "id": "fd7dce6a-824e-473d-a953-986071b89322",
   "metadata": {},
   "outputs": [
    {
     "name": "stdout",
     "output_type": "stream",
     "text": [
      "1000\n",
      "Balance (via getter): 1000\n"
     ]
    }
   ],
   "source": [
    "# private variable------------\n",
    "class BankAccount:\n",
    "    def __init__(self, account_number, balance):\n",
    "        self.__account_number = account_number  # Private attribute\n",
    "        self.__balance = balance                # Private attribute\n",
    "\n",
    "    def deposit(self, amount):\n",
    "        if amount > 0:\n",
    "            self.__balance += amount\n",
    "            print(f\"Deposited ${amount}. New balance: ${self.__balance}\")\n",
    "        else:\n",
    "            print(\"Invalid deposit amount!\")\n",
    "\n",
    "    def withdraw(self, amount):\n",
    "        if 0 < amount <= self.__balance:\n",
    "            self.__balance -= amount\n",
    "            print(f\"Withdrew ${amount}. New balance: ${self.__balance}\")\n",
    "        else:\n",
    "            print(\"Invalid or insufficient funds!\")\n",
    "\n",
    "    def get_balance(self):  # Getter for __balance\n",
    "        return self.__balance\n",
    "\n",
    "account = BankAccount(\"12345\", 1000)\n",
    "# print(account.__balance)\n",
    "print(account._BankAccount__balance)\n",
    "# print(dir(account))\n",
    "# print(f\"Balance (via getter): {account.get_balance()}\")\n"
   ]
  },
  {
   "cell_type": "code",
   "execution_count": null,
   "id": "c4460765-11a0-4b55-b604-5be0a06053a1",
   "metadata": {},
   "outputs": [],
   "source": []
  }
 ],
 "metadata": {
  "kernelspec": {
   "display_name": "Python 3 (ipykernel)",
   "language": "python",
   "name": "python3"
  },
  "language_info": {
   "codemirror_mode": {
    "name": "ipython",
    "version": 3
   },
   "file_extension": ".py",
   "mimetype": "text/x-python",
   "name": "python",
   "nbconvert_exporter": "python",
   "pygments_lexer": "ipython3",
   "version": "3.12.7"
  }
 },
 "nbformat": 4,
 "nbformat_minor": 5
}
