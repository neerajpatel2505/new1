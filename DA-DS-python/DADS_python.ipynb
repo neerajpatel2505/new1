{
 "cells": [
  {
   "cell_type": "code",
   "execution_count": null,
   "id": "38f3805a-f78a-45a9-b115-81e6074a936f",
   "metadata": {},
   "outputs": [],
   "source": [
    "What is language ? \n",
    "Why it is required ? \n",
    "Type of languages ? \n",
    "1. Languages used in b/w humans(Hindi,English,etc.....).\n",
    "2. languages used in b/w human and hardware(programming language).\n",
    "Type of Programming Languages:\n",
    "1. Low level/Machine level language.\n",
    "2. Middle-level/Assembly language(Assembler).\n",
    "3. High-level language (Compiler/Interpreter).\n",
    "    I.    Python\n",
    "    II.   Java\n",
    "    III.  PHP\n",
    "    IV.   Ruby\n",
    "    V.    R etc.....\n"
   ]
  },
  {
   "cell_type": "code",
   "execution_count": null,
   "id": "bfc4d83e-77c8-431d-b9d9-471f973ec584",
   "metadata": {},
   "outputs": [],
   "source": [
    "Python:---\n",
    "    1. free\n",
    "    2. open source\n",
    "    3. High-level, general-purpose programming language."
   ]
  },
  {
   "cell_type": "code",
   "execution_count": null,
   "id": "31c90caa-9366-40d6-a019-49ad558cfa35",
   "metadata": {},
   "outputs": [],
   "source": [
    "Features/Advantages of Python:\n",
    "    1. On the basis of syntex Simple and easy to learn.\n",
    "    2. Platform Independent.\n",
    "    3. Compatible with other languages.\n",
    "    4. Dynamically Typed.\n",
    "    5. Both Procedure Oriented and Object Oriented.\n",
    "    6. Interpreted as well as compiler based.\n",
    "    7. Huge community support.\n",
    "    7. Extensive Library(like numpy, panda, matplotlib etc…)"
   ]
  },
  {
   "cell_type": "code",
   "execution_count": null,
   "id": "7df071a5-00df-4718-8d41-9ce95beb1289",
   "metadata": {},
   "outputs": [],
   "source": [
    "Limitations of Python:\n",
    "1.Performance and Speed: Python, being an interpreted language, is slower compared to \n",
    "  compiled languages like C or Java.\n",
    "2.Dynamic Typing: As a dynamically typed language, Python does not check variable types \n",
    "  at compile time, which can result in runtime errors.\n",
    "3.Web Development Support: Python lacks built-in support for web development. \n",
    "  Developers need to rely on third-party frameworks and libraries to create web \n",
    "  applications in Python.\n",
    "4.Mobile Computing: Python is not as well-suited for mobile computing as languages like \n",
    "  Java or Kotlin, partly due to its high memory consumption.\n",
    "5.Memory Management: The dynamic typing in Python allows variable data types to change \n",
    "  at any time, which can lead to memory leaks and other memory usage issues."
   ]
  },
  {
   "cell_type": "code",
   "execution_count": null,
   "id": "8cc6087e-99e7-4c59-b174-decbc3f475e6",
   "metadata": {},
   "outputs": [],
   "source": [
    "Application of Pythons:\n",
    "    1. Web development\n",
    "    2. Data Science and Analytic.\n",
    "    3. Scientific Computing.\n",
    "    4. Automations.\n",
    "    5. Scripting.\n",
    "    6. Machine Learning.\n",
    "    7. Deep learning."
   ]
  },
  {
   "cell_type": "code",
   "execution_count": null,
   "id": "fa601ab3-58bc-486d-b86f-94cdc7efdade",
   "metadata": {},
   "outputs": [],
   "source": []
  },
  {
   "cell_type": "code",
   "execution_count": null,
   "id": "24781fbc-cc23-4648-8acc-260cc90c5d7a",
   "metadata": {},
   "outputs": [],
   "source": []
  },
  {
   "cell_type": "code",
   "execution_count": null,
   "id": "c5263c5e-c112-4507-97f7-d85d451cbf14",
   "metadata": {},
   "outputs": [],
   "source": [
    "Bitwise Operators:----------"
   ]
  },
  {
   "cell_type": "code",
   "execution_count": 1,
   "id": "823530b2-2f15-44cc-9b1b-54a7639e4eb6",
   "metadata": {},
   "outputs": [
    {
     "name": "stdout",
     "output_type": "stream",
     "text": [
      "1010\n"
     ]
    }
   ],
   "source": [
    "# decimal number system (by-default)\n",
    "x= 1010\n",
    "print(x)    # by-default decimal print"
   ]
  },
  {
   "cell_type": "code",
   "execution_count": 2,
   "id": "6e64fc85-29e2-4188-b116-6237e44e3e4d",
   "metadata": {},
   "outputs": [
    {
     "name": "stdout",
     "output_type": "stream",
     "text": [
      "10\n"
     ]
    }
   ],
   "source": [
    "x= 0b1010\n",
    "print(x)"
   ]
  },
  {
   "cell_type": "code",
   "execution_count": 3,
   "id": "2ddc2462-ebd2-4178-8407-d8111912c676",
   "metadata": {},
   "outputs": [
    {
     "name": "stdout",
     "output_type": "stream",
     "text": [
      "520\n"
     ]
    }
   ],
   "source": [
    "x= 0o1010\n",
    "print(x)"
   ]
  },
  {
   "cell_type": "code",
   "execution_count": null,
   "id": "2c06fc54-1722-42a6-831a-a31de4b8adc2",
   "metadata": {},
   "outputs": [],
   "source": [
    "x= 0x1010\n",
    "print(x)\n",
    "print(bin(x))\n",
    "print(oct(x))"
   ]
  },
  {
   "cell_type": "code",
   "execution_count": 4,
   "id": "ddb1908b-baaa-4f78-9e8f-f237072350be",
   "metadata": {},
   "outputs": [
    {
     "name": "stdout",
     "output_type": "stream",
     "text": [
      "0b1111110010\n",
      "0o1762\n",
      "0x3f2\n"
     ]
    }
   ],
   "source": [
    "x=1010  # by-default decimal number system\n",
    "print(bin(x))\n",
    "print(oct(x))\n",
    "print(hex(x))"
   ]
  },
  {
   "cell_type": "code",
   "execution_count": 5,
   "id": "181eb6e8-e3e7-4543-b637-134df1f9d809",
   "metadata": {},
   "outputs": [
    {
     "name": "stdout",
     "output_type": "stream",
     "text": [
      "0\n"
     ]
    }
   ],
   "source": [
    "x=10\n",
    "y=20\n",
    "z=x&y\n",
    "print(z)"
   ]
  },
  {
   "cell_type": "code",
   "execution_count": 6,
   "id": "5a5fbefe-642c-4153-afbe-f8be90762155",
   "metadata": {},
   "outputs": [
    {
     "name": "stdout",
     "output_type": "stream",
     "text": [
      "30\n"
     ]
    }
   ],
   "source": [
    "x=10\n",
    "y=20\n",
    "z=x | y\n",
    "print(z)"
   ]
  },
  {
   "cell_type": "code",
   "execution_count": 7,
   "id": "6b933520-f656-4b6c-bef4-c1633ae66579",
   "metadata": {},
   "outputs": [
    {
     "name": "stdout",
     "output_type": "stream",
     "text": [
      "-8\n"
     ]
    }
   ],
   "source": [
    "x=7 # not used\n",
    "print(~x)"
   ]
  },
  {
   "cell_type": "code",
   "execution_count": 8,
   "id": "0e41bc14-a475-4d73-a333-163799fa527b",
   "metadata": {},
   "outputs": [
    {
     "name": "stdout",
     "output_type": "stream",
     "text": [
      "-16\n"
     ]
    }
   ],
   "source": [
    "x=15 # not used\n",
    "print(~x)"
   ]
  },
  {
   "cell_type": "code",
   "execution_count": 9,
   "id": "40a66090-90c8-4ba9-9b67-b7f279c9f81a",
   "metadata": {},
   "outputs": [
    {
     "name": "stdout",
     "output_type": "stream",
     "text": [
      "20\n"
     ]
    }
   ],
   "source": [
    "x =10\n",
    "print(x<<1)"
   ]
  },
  {
   "cell_type": "code",
   "execution_count": 10,
   "id": "2d9822b6-d1e0-4f8a-b9ad-5cd5e079f297",
   "metadata": {},
   "outputs": [
    {
     "name": "stdout",
     "output_type": "stream",
     "text": [
      "80\n"
     ]
    }
   ],
   "source": [
    "x =10\n",
    "print(x<<3)"
   ]
  },
  {
   "cell_type": "code",
   "execution_count": 11,
   "id": "45f6ca2b-1ec3-4ea1-8f65-1210544f86d1",
   "metadata": {},
   "outputs": [
    {
     "name": "stdout",
     "output_type": "stream",
     "text": [
      "5\n"
     ]
    }
   ],
   "source": [
    "x =10\n",
    "print(x>>1)"
   ]
  },
  {
   "cell_type": "code",
   "execution_count": 12,
   "id": "b08b33c0-44a6-4402-838f-070d4e105d77",
   "metadata": {},
   "outputs": [
    {
     "name": "stdout",
     "output_type": "stream",
     "text": [
      "8\n"
     ]
    }
   ],
   "source": [
    "x=70\n",
    "print(x>>3)"
   ]
  },
  {
   "cell_type": "code",
   "execution_count": null,
   "id": "2630632f-a778-4b69-9351-e9349a4db276",
   "metadata": {},
   "outputs": [],
   "source": [
    " "
   ]
  }
 ],
 "metadata": {
  "kernelspec": {
   "display_name": "Python 3 (ipykernel)",
   "language": "python",
   "name": "python3"
  },
  "language_info": {
   "codemirror_mode": {
    "name": "ipython",
    "version": 3
   },
   "file_extension": ".py",
   "mimetype": "text/x-python",
   "name": "python",
   "nbconvert_exporter": "python",
   "pygments_lexer": "ipython3",
   "version": "3.12.4"
  }
 },
 "nbformat": 4,
 "nbformat_minor": 5
}
