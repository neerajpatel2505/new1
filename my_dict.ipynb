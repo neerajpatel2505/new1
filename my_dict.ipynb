{
 "cells": [
  {
   "cell_type": "code",
   "execution_count": 2,
   "id": "76eb51e3-d037-4096-8a5b-29fa633f9069",
   "metadata": {},
   "outputs": [
    {
     "name": "stdout",
     "output_type": "stream",
     "text": [
      "{}\n",
      "1452241566336\n"
     ]
    }
   ],
   "source": [
    "my_dict = {'name':'Neeraj','age':37,'quali':'M.tech'}\n",
    "my_dict.clear()\n",
    "print(my_dict)\n",
    "print(id(my_dict))"
   ]
  },
  {
   "cell_type": "code",
   "execution_count": 4,
   "id": "08ae81d3-173a-45e6-b770-b7b474aea49b",
   "metadata": {},
   "outputs": [
    {
     "name": "stdout",
     "output_type": "stream",
     "text": [
      "{'name': 'Neeraj', 'age': 37, 'quali': 'M.tech'}\n",
      "{'name': 'Neeraj', 'age': 37, 'quali': 'M.tech'}\n",
      "1452241588480\n",
      "1452241598592\n"
     ]
    }
   ],
   "source": [
    "my_dict = {'name':'Neeraj','age':37,'quali':'M.tech'}\n",
    "x = my_dict.copy()\n",
    "print(my_dict)\n",
    "print(x)\n",
    "print(id(my_dict))\n",
    "print(id(x))"
   ]
  },
  {
   "cell_type": "code",
   "execution_count": 5,
   "id": "f1a73d59-9998-4561-9a49-d87c281ac387",
   "metadata": {},
   "outputs": [
    {
     "name": "stdout",
     "output_type": "stream",
     "text": [
      "140707951487704\n",
      "140707951487704\n"
     ]
    }
   ],
   "source": [
    "x=10\n",
    "y=10\n",
    "print(id(x))\n",
    "print(id(y))"
   ]
  },
  {
   "cell_type": "code",
   "execution_count": 8,
   "id": "0a33094f-3865-4e96-93cc-8c77b92d751c",
   "metadata": {},
   "outputs": [
    {
     "name": "stdout",
     "output_type": "stream",
     "text": [
      "{'N': None, 'e': None, 'r': None, 'a': None, 'j': None}\n"
     ]
    }
   ],
   "source": [
    "str1 = 'Neeraj'\n",
    "x = dict.fromkeys(str1)\n",
    "print(x)"
   ]
  },
  {
   "cell_type": "code",
   "execution_count": 11,
   "id": "2c3a062d-a1a4-4fb7-9449-26efccdb8895",
   "metadata": {},
   "outputs": [
    {
     "name": "stdout",
     "output_type": "stream",
     "text": [
      "{'Neeraj': 'new', 'raj': 'new', 10: 'new', 20: 'new', 30: 'new'}\n"
     ]
    }
   ],
   "source": [
    "str1 = ['Neeraj','raj',10,20,30]\n",
    "x = dict.fromkeys(str1,\"new\")\n",
    "print(x)"
   ]
  },
  {
   "cell_type": "code",
   "execution_count": 14,
   "id": "da11ee77-e6ea-4c34-8ad3-749d42403f26",
   "metadata": {},
   "outputs": [
    {
     "name": "stdout",
     "output_type": "stream",
     "text": [
      "dict_keys(['name', 'age', 'quali'])\n",
      "dict_values(['Neeraj', 37, 'M.tech'])\n",
      "dict_items([('name', 'Neeraj'), ('age', 37), ('quali', 'M.tech')])\n"
     ]
    }
   ],
   "source": [
    "my_dict = {'name':'Neeraj','age':37,'quali':'M.tech'}\n",
    "print(my_dict.keys())\n",
    "print(my_dict.values())\n",
    "print(my_dict.items())"
   ]
  },
  {
   "cell_type": "code",
   "execution_count": null,
   "id": "16c01630-c69f-4760-bf25-6474f3cc0deb",
   "metadata": {},
   "outputs": [],
   "source": []
  }
 ],
 "metadata": {
  "kernelspec": {
   "display_name": "Python 3 (ipykernel)",
   "language": "python",
   "name": "python3"
  },
  "language_info": {
   "codemirror_mode": {
    "name": "ipython",
    "version": 3
   },
   "file_extension": ".py",
   "mimetype": "text/x-python",
   "name": "python",
   "nbconvert_exporter": "python",
   "pygments_lexer": "ipython3",
   "version": "3.12.7"
  }
 },
 "nbformat": 4,
 "nbformat_minor": 5
}
