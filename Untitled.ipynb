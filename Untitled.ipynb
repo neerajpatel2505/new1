{
 "cells": [
  {
   "cell_type": "code",
   "execution_count": 1,
   "id": "a7e7ee8a",
   "metadata": {},
   "outputs": [],
   "source": [
    "list=[10,20,30,'neeraj']"
   ]
  },
  {
   "cell_type": "code",
   "execution_count": 2,
   "id": "6e1e9b53",
   "metadata": {},
   "outputs": [
    {
     "name": "stdout",
     "output_type": "stream",
     "text": [
      "[10, 20, 30, 'neeraj']\n"
     ]
    }
   ],
   "source": [
    "print(list)"
   ]
  },
  {
   "cell_type": "code",
   "execution_count": 4,
   "id": "ed1172cc",
   "metadata": {},
   "outputs": [
    {
     "name": "stdout",
     "output_type": "stream",
     "text": [
      "[10, 20, 30, 'neeraj', 20, 20]\n"
     ]
    }
   ],
   "source": [
    "list.append(20)\n",
    "print(list)"
   ]
  },
  {
   "cell_type": "code",
   "execution_count": 7,
   "id": "5283dc2e",
   "metadata": {},
   "outputs": [],
   "source": [
    "list1=[2,3,4,5,6,7,8]"
   ]
  },
  {
   "cell_type": "code",
   "execution_count": null,
   "id": "3cf8aa7d",
   "metadata": {},
   "outputs": [],
   "source": [
    "list.extend(list1)"
   ]
  },
  {
   "cell_type": "code",
   "execution_count": 8,
   "id": "ead6af3a",
   "metadata": {},
   "outputs": [
    {
     "name": "stdout",
     "output_type": "stream",
     "text": [
      "[10, 20, 30, 'neeraj', 20, 20, 2, 3, 4, 5, 6, 7, 8, 2, 3, 4, 5, 6, 7, 8]\n"
     ]
    }
   ],
   "source": [
    "print(list)"
   ]
  },
  {
   "cell_type": "code",
   "execution_count": null,
   "id": "e378737e",
   "metadata": {},
   "outputs": [],
   "source": [
    "l1=[2,3,4,5,6,7]"
   ]
  },
  {
   "cell_type": "code",
   "execution_count": null,
   "id": "8ec47691",
   "metadata": {},
   "outputs": [],
   "source": [
    "l"
   ]
  },
  {
   "cell_type": "code",
   "execution_count": null,
   "id": "eea36917",
   "metadata": {},
   "outputs": [],
   "source": []
  },
  {
   "cell_type": "code",
   "execution_count": null,
   "id": "f83528a6",
   "metadata": {},
   "outputs": [],
   "source": []
  },
  {
   "cell_type": "code",
   "execution_count": null,
   "id": "9a3f1964",
   "metadata": {},
   "outputs": [],
   "source": []
  }
 ],
 "metadata": {
  "kernelspec": {
   "display_name": "Python 3 (ipykernel)",
   "language": "python",
   "name": "python3"
  },
  "language_info": {
   "codemirror_mode": {
    "name": "ipython",
    "version": 3
   },
   "file_extension": ".py",
   "mimetype": "text/x-python",
   "name": "python",
   "nbconvert_exporter": "python",
   "pygments_lexer": "ipython3",
   "version": "3.9.7"
  }
 },
 "nbformat": 4,
 "nbformat_minor": 5
}
